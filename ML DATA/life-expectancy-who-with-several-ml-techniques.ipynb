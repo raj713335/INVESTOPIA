{
 "cells": [
  {
   "cell_type": "markdown",
   "metadata": {},
   "source": [
    "# Life Expectancy (WHO)\n",
    "* Statistical Analysis on factors influencing Life Expectancy\n",
    "\n",
    "\n",
    "\n",
    "## Context\n",
    "\n",
    "Although there have been lot of studies undertaken in the past on factors affecting life expectancy considering demographic variables, income composition and mortality rates. It was found that affect of immunization and human development index was not taken into account in the past. Also, some of the past research was done considering multiple linear regression based on data set of one year for all the countries. Hence, this gives motivation to resolve both the factors stated previously by formulating a regression model based on mixed effects model and multiple linear regression while considering data from a period of 2000 to 2015 for all the countries. Important immunization like Hepatitis B, Polio and Diphtheria will also be considered. In a nutshell, this study will focus on immunization factors, mortality factors, economic factors, social factors and other health related factors as well. Since the observations this dataset are based on different countries, it will be easier for a country to determine the predicting factor which is contributing to lower value of life expectancy. This will help in suggesting a country which area should be given importance in order to efficiently improve the life expectancy of its population.\n",
    "\n",
    "\n",
    "## Content\n",
    "\n",
    "The project relies on accuracy of data. The Global Health Observatory (GHO) data repository under World Health Organization (WHO) keeps track of the health status as well as many other related factors for all countries The data-sets are made available to public for the purpose of health data analysis. The data-set related to life expectancy, health factors for 193 countries has been collected from the same WHO data repository website and its corresponding economic data was collected from United Nation website. Among all categories of health-related factors only those critical factors were chosen which are more representative. It has been observed that in the past 15 years , there has been a huge development in health sector resulting in improvement of human mortality rates especially in the developing nations in comparison to the past 30 years. Therefore, in this project we have considered data from year 2000-2015 for 193 countries for further analysis. The individual data files have been merged together into a single data-set. On initial visual inspection of the data showed some missing values. As the data-sets were from WHO, we found no evident errors. Missing data was handled in R software by using Missmap command. The result indicated that most of the missing data was for population, Hepatitis B and GDP. The missing data were from less known countries like Vanuatu, Tonga, Togo, Cabo Verde etc. Finding all data for these countries was difficult and hence, it was decided that we exclude these countries from the final model data-set. The final merged file(final dataset) consists of 22 Columns and 2938 rows which meant 20 predicting variables. All predicting variables was then divided into several broad categories:​Immunization related factors, Mortality factors, Economical factors and Social factors.\n",
    "\n",
    "\n",
    "## Acknowledgements\n",
    "\n",
    "The data was collected from WHO and United Nations website with the help of Deeksha Russell and Duan Wang.\n",
    "\n",
    "\n",
    "## Inspiration\n",
    "\n",
    "The data-set aims to answer the following key questions:\n",
    "\n",
    "   - Does various predicting factors which has been chosen initially really affect the Life expectancy? What are the predicting variables actually affecting the life expectancy?\n",
    "   - Should a country having a lower life expectancy value(<65) increase its healthcare expenditure in order to improve its average lifespan?\n",
    "   - How does Infant and Adult mortality rates affect life expectancy?\n",
    "   - Does Life Expectancy has positive or negative correlation with eating habits, lifestyle, exercise, smoking, drinking alcohol etc.\n",
    "   - What is the impact of schooling on the lifespan of humans?\n",
    "   - Does Life Expectancy have positive or negative relationship with drinking alcohol?\n",
    "   - Do densely populated countries tend to have lower life expectancy?\n",
    "   - What is the impact of Immunization coverage on life Expectancy?\n",
    "\n",
    "\n",
    "### Note: This study created simple visualizations dont forget it but for basic levels!"
   ]
  },
  {
   "cell_type": "code",
   "execution_count": 74,
   "metadata": {
    "_cell_guid": "b1076dfc-b9ad-4769-8c92-a6c4dae69d19",
    "_uuid": "8f2839f25d086af736a60e9eeb907d3b93b6e0e5"
   },
   "outputs": [],
   "source": [
    "# This Python 3 environment comes with many helpful analytics libraries installed\n",
    "# It is defined by the kaggle/python docker image: https://github.com/kaggle/docker-python\n",
    "# For example, here's several helpful packages to load in \n",
    "\n",
    "import numpy as np # linear algebra\n",
    "import pandas as pd # data processing, CSV file I/O (e.g. pd.read_csv)\n",
    "import matplotlib.pyplot as plt\n",
    "from sklearn.linear_model import LinearRegression\n",
    "import statsmodels.api as sm\n",
    "import statsmodels.formula.api as smf\n",
    "import seaborn as sns\n",
    "from sklearn.preprocessing import scale \n",
    "from sklearn.model_selection import train_test_split, GridSearchCV, cross_val_score\n",
    "from sklearn.metrics import confusion_matrix, accuracy_score, classification_report\n",
    "from sklearn.metrics import roc_auc_score,roc_curve\n",
    "import statsmodels.formula.api as smf\n",
    "from sklearn.linear_model import LogisticRegression\n",
    "from sklearn.metrics import mean_squared_error, r2_score                # we are using this for model tunning\n",
    "\n",
    "from warnings import filterwarnings\n",
    "filterwarnings('ignore')\n",
    "\n",
    "\n",
    "# For example, running this (by clicking run or pressing Shift+Enter) will list all files under the input directory\n",
    "\n",
    "import os\n",
    "\n",
    "PROJECT_ROOT_DIR = \".\"\n",
    "CHAPTER_ID = \"LIFE_EXPECTANCY\"\n",
    "IMAGES_PATH = os.path.join(PROJECT_ROOT_DIR, \"images\", CHAPTER_ID)\n",
    "os.makedirs(IMAGES_PATH, exist_ok=True)\n",
    "\n",
    "def save_fig(fig_id, tight_layout=True, fig_extension=\"png\", resolution=2000):\n",
    "    path = os.path.join(IMAGES_PATH, fig_id + \".\" + fig_extension)\n",
    "    print(\"Saving figure\", fig_id)\n",
    "    if tight_layout:\n",
    "        plt.tight_layout()\n",
    "    plt.savefig(path, format=fig_extension, dpi=resolution)\n",
    "\n",
    "# Any results you write to the current directory are saved as output."
   ]
  },
  {
   "cell_type": "code",
   "execution_count": 138,
   "metadata": {},
   "outputs": [],
   "source": [
    "Life_Expectancy_Data = pd.read_csv(\"Life Expectancy Data.csv\")\n",
    "\n",
    "\n",
    "data = Life_Expectancy_Data.copy()\n",
    "data = data.dropna()            # If there is a missing or empty observation, delete it. Or 'data.fillna(data.mean(), inplace=True)' with this make NaN values take mean\n",
    "\n",
    "lindata = data.copy()\n",
    "multidata = data.copy()\n",
    "polydata = data.copy()\n",
    "RFdata = data.copy()\n",
    "logdata = data.copy()"
   ]
  },
  {
   "cell_type": "code",
   "execution_count": 142,
   "metadata": {},
   "outputs": [
    {
     "data": {
      "text/plain": [
       "Country                            Afghanistan\n",
       "Year                                      2014\n",
       "Status                              Developing\n",
       "Life expectancy                           59.9\n",
       "Adult Mortality                            271\n",
       "infant deaths                               64\n",
       "Alcohol                                   0.01\n",
       "percentage expenditure                 73.5236\n",
       "Hepatitis B                                 62\n",
       "Measles                                    492\n",
       " BMI                                      18.6\n",
       "under-five deaths                           86\n",
       "Polio                                       58\n",
       "Total expenditure                         8.18\n",
       "Diphtheria                                  62\n",
       " HIV/AIDS                                  0.1\n",
       "GDP                                    612.697\n",
       "Population                              327582\n",
       " thinness  1-19 years                     17.5\n",
       " thinness 5-9 years                       17.5\n",
       "Income composition of resources          0.476\n",
       "Schooling                                   10\n",
       "Name: 1, dtype: object"
      ]
     },
     "execution_count": 142,
     "metadata": {},
     "output_type": "execute_result"
    }
   ],
   "source": [
    "Life_Expectancy_Data.iloc[1]"
   ]
  },
  {
   "cell_type": "markdown",
   "metadata": {},
   "source": [
    "# Linear Regression"
   ]
  },
  {
   "cell_type": "code",
   "execution_count": 23,
   "metadata": {},
   "outputs": [
    {
     "name": "stdout",
     "output_type": "stream",
     "text": [
      "<class 'pandas.core.frame.DataFrame'>\n",
      "Int64Index: 1649 entries, 0 to 2937\n",
      "Data columns (total 22 columns):\n",
      " #   Column                           Non-Null Count  Dtype  \n",
      "---  ------                           --------------  -----  \n",
      " 0   Country                          1649 non-null   object \n",
      " 1   Year                             1649 non-null   int64  \n",
      " 2   Status                           1649 non-null   object \n",
      " 3   Life expectancy                  1649 non-null   float64\n",
      " 4   Adult Mortality                  1649 non-null   float64\n",
      " 5   infant deaths                    1649 non-null   int64  \n",
      " 6   Alcohol                          1649 non-null   float64\n",
      " 7   percentage expenditure           1649 non-null   float64\n",
      " 8   Hepatitis B                      1649 non-null   float64\n",
      " 9   Measles                          1649 non-null   int64  \n",
      " 10   BMI                             1649 non-null   float64\n",
      " 11  under-five deaths                1649 non-null   int64  \n",
      " 12  Polio                            1649 non-null   float64\n",
      " 13  Total expenditure                1649 non-null   float64\n",
      " 14  Diphtheria                       1649 non-null   float64\n",
      " 15   HIV/AIDS                        1649 non-null   float64\n",
      " 16  GDP                              1649 non-null   float64\n",
      " 17  Population                       1649 non-null   float64\n",
      " 18   thinness  1-19 years            1649 non-null   float64\n",
      " 19   thinness 5-9 years              1649 non-null   float64\n",
      " 20  Income composition of resources  1649 non-null   float64\n",
      " 21  Schooling                        1649 non-null   float64\n",
      "dtypes: float64(16), int64(4), object(2)\n",
      "memory usage: 296.3+ KB\n"
     ]
    }
   ],
   "source": [
    "lindata.info()"
   ]
  },
  {
   "cell_type": "code",
   "execution_count": 24,
   "metadata": {},
   "outputs": [
    {
     "data": {
      "text/html": [
       "<div>\n",
       "<style scoped>\n",
       "    .dataframe tbody tr th:only-of-type {\n",
       "        vertical-align: middle;\n",
       "    }\n",
       "\n",
       "    .dataframe tbody tr th {\n",
       "        vertical-align: top;\n",
       "    }\n",
       "\n",
       "    .dataframe thead th {\n",
       "        text-align: right;\n",
       "    }\n",
       "</style>\n",
       "<table border=\"1\" class=\"dataframe\">\n",
       "  <thead>\n",
       "    <tr style=\"text-align: right;\">\n",
       "      <th></th>\n",
       "      <th>Country</th>\n",
       "      <th>Year</th>\n",
       "      <th>Status</th>\n",
       "      <th>Life expectancy</th>\n",
       "      <th>Adult Mortality</th>\n",
       "      <th>infant deaths</th>\n",
       "      <th>Alcohol</th>\n",
       "      <th>percentage expenditure</th>\n",
       "      <th>Hepatitis B</th>\n",
       "      <th>Measles</th>\n",
       "      <th>...</th>\n",
       "      <th>Polio</th>\n",
       "      <th>Total expenditure</th>\n",
       "      <th>Diphtheria</th>\n",
       "      <th>HIV/AIDS</th>\n",
       "      <th>GDP</th>\n",
       "      <th>Population</th>\n",
       "      <th>thinness  1-19 years</th>\n",
       "      <th>thinness 5-9 years</th>\n",
       "      <th>Income composition of resources</th>\n",
       "      <th>Schooling</th>\n",
       "    </tr>\n",
       "  </thead>\n",
       "  <tbody>\n",
       "    <tr>\n",
       "      <th>0</th>\n",
       "      <td>Afghanistan</td>\n",
       "      <td>2015</td>\n",
       "      <td>Developing</td>\n",
       "      <td>65.0</td>\n",
       "      <td>263.0</td>\n",
       "      <td>62</td>\n",
       "      <td>0.01</td>\n",
       "      <td>71.279624</td>\n",
       "      <td>65.0</td>\n",
       "      <td>1154</td>\n",
       "      <td>...</td>\n",
       "      <td>6.0</td>\n",
       "      <td>8.16</td>\n",
       "      <td>65.0</td>\n",
       "      <td>0.1</td>\n",
       "      <td>584.259210</td>\n",
       "      <td>33736494.0</td>\n",
       "      <td>17.2</td>\n",
       "      <td>17.3</td>\n",
       "      <td>0.479</td>\n",
       "      <td>10.1</td>\n",
       "    </tr>\n",
       "    <tr>\n",
       "      <th>1</th>\n",
       "      <td>Afghanistan</td>\n",
       "      <td>2014</td>\n",
       "      <td>Developing</td>\n",
       "      <td>59.9</td>\n",
       "      <td>271.0</td>\n",
       "      <td>64</td>\n",
       "      <td>0.01</td>\n",
       "      <td>73.523582</td>\n",
       "      <td>62.0</td>\n",
       "      <td>492</td>\n",
       "      <td>...</td>\n",
       "      <td>58.0</td>\n",
       "      <td>8.18</td>\n",
       "      <td>62.0</td>\n",
       "      <td>0.1</td>\n",
       "      <td>612.696514</td>\n",
       "      <td>327582.0</td>\n",
       "      <td>17.5</td>\n",
       "      <td>17.5</td>\n",
       "      <td>0.476</td>\n",
       "      <td>10.0</td>\n",
       "    </tr>\n",
       "    <tr>\n",
       "      <th>2</th>\n",
       "      <td>Afghanistan</td>\n",
       "      <td>2013</td>\n",
       "      <td>Developing</td>\n",
       "      <td>59.9</td>\n",
       "      <td>268.0</td>\n",
       "      <td>66</td>\n",
       "      <td>0.01</td>\n",
       "      <td>73.219243</td>\n",
       "      <td>64.0</td>\n",
       "      <td>430</td>\n",
       "      <td>...</td>\n",
       "      <td>62.0</td>\n",
       "      <td>8.13</td>\n",
       "      <td>64.0</td>\n",
       "      <td>0.1</td>\n",
       "      <td>631.744976</td>\n",
       "      <td>31731688.0</td>\n",
       "      <td>17.7</td>\n",
       "      <td>17.7</td>\n",
       "      <td>0.470</td>\n",
       "      <td>9.9</td>\n",
       "    </tr>\n",
       "    <tr>\n",
       "      <th>3</th>\n",
       "      <td>Afghanistan</td>\n",
       "      <td>2012</td>\n",
       "      <td>Developing</td>\n",
       "      <td>59.5</td>\n",
       "      <td>272.0</td>\n",
       "      <td>69</td>\n",
       "      <td>0.01</td>\n",
       "      <td>78.184215</td>\n",
       "      <td>67.0</td>\n",
       "      <td>2787</td>\n",
       "      <td>...</td>\n",
       "      <td>67.0</td>\n",
       "      <td>8.52</td>\n",
       "      <td>67.0</td>\n",
       "      <td>0.1</td>\n",
       "      <td>669.959000</td>\n",
       "      <td>3696958.0</td>\n",
       "      <td>17.9</td>\n",
       "      <td>18.0</td>\n",
       "      <td>0.463</td>\n",
       "      <td>9.8</td>\n",
       "    </tr>\n",
       "    <tr>\n",
       "      <th>4</th>\n",
       "      <td>Afghanistan</td>\n",
       "      <td>2011</td>\n",
       "      <td>Developing</td>\n",
       "      <td>59.2</td>\n",
       "      <td>275.0</td>\n",
       "      <td>71</td>\n",
       "      <td>0.01</td>\n",
       "      <td>7.097109</td>\n",
       "      <td>68.0</td>\n",
       "      <td>3013</td>\n",
       "      <td>...</td>\n",
       "      <td>68.0</td>\n",
       "      <td>7.87</td>\n",
       "      <td>68.0</td>\n",
       "      <td>0.1</td>\n",
       "      <td>63.537231</td>\n",
       "      <td>2978599.0</td>\n",
       "      <td>18.2</td>\n",
       "      <td>18.2</td>\n",
       "      <td>0.454</td>\n",
       "      <td>9.5</td>\n",
       "    </tr>\n",
       "  </tbody>\n",
       "</table>\n",
       "<p>5 rows × 22 columns</p>\n",
       "</div>"
      ],
      "text/plain": [
       "       Country  Year      Status  Life expectancy   Adult Mortality  \\\n",
       "0  Afghanistan  2015  Developing              65.0            263.0   \n",
       "1  Afghanistan  2014  Developing              59.9            271.0   \n",
       "2  Afghanistan  2013  Developing              59.9            268.0   \n",
       "3  Afghanistan  2012  Developing              59.5            272.0   \n",
       "4  Afghanistan  2011  Developing              59.2            275.0   \n",
       "\n",
       "   infant deaths  Alcohol  percentage expenditure  Hepatitis B  Measles   ...  \\\n",
       "0             62     0.01               71.279624         65.0      1154  ...   \n",
       "1             64     0.01               73.523582         62.0       492  ...   \n",
       "2             66     0.01               73.219243         64.0       430  ...   \n",
       "3             69     0.01               78.184215         67.0      2787  ...   \n",
       "4             71     0.01                7.097109         68.0      3013  ...   \n",
       "\n",
       "   Polio  Total expenditure  Diphtheria    HIV/AIDS         GDP  Population  \\\n",
       "0    6.0               8.16         65.0        0.1  584.259210  33736494.0   \n",
       "1   58.0               8.18         62.0        0.1  612.696514    327582.0   \n",
       "2   62.0               8.13         64.0        0.1  631.744976  31731688.0   \n",
       "3   67.0               8.52         67.0        0.1  669.959000   3696958.0   \n",
       "4   68.0               7.87         68.0        0.1   63.537231   2978599.0   \n",
       "\n",
       "    thinness  1-19 years   thinness 5-9 years  \\\n",
       "0                   17.2                 17.3   \n",
       "1                   17.5                 17.5   \n",
       "2                   17.7                 17.7   \n",
       "3                   17.9                 18.0   \n",
       "4                   18.2                 18.2   \n",
       "\n",
       "   Income composition of resources  Schooling  \n",
       "0                            0.479       10.1  \n",
       "1                            0.476       10.0  \n",
       "2                            0.470        9.9  \n",
       "3                            0.463        9.8  \n",
       "4                            0.454        9.5  \n",
       "\n",
       "[5 rows x 22 columns]"
      ]
     },
     "execution_count": 24,
     "metadata": {},
     "output_type": "execute_result"
    }
   ],
   "source": [
    "lindata.head()"
   ]
  },
  {
   "cell_type": "code",
   "execution_count": 25,
   "metadata": {},
   "outputs": [
    {
     "data": {
      "text/html": [
       "<div>\n",
       "<style scoped>\n",
       "    .dataframe tbody tr th:only-of-type {\n",
       "        vertical-align: middle;\n",
       "    }\n",
       "\n",
       "    .dataframe tbody tr th {\n",
       "        vertical-align: top;\n",
       "    }\n",
       "\n",
       "    .dataframe thead th {\n",
       "        text-align: right;\n",
       "    }\n",
       "</style>\n",
       "<table border=\"1\" class=\"dataframe\">\n",
       "  <thead>\n",
       "    <tr style=\"text-align: right;\">\n",
       "      <th></th>\n",
       "      <th>Year</th>\n",
       "      <th>Life expectancy</th>\n",
       "      <th>Adult Mortality</th>\n",
       "      <th>infant deaths</th>\n",
       "      <th>Alcohol</th>\n",
       "      <th>percentage expenditure</th>\n",
       "      <th>Hepatitis B</th>\n",
       "      <th>Measles</th>\n",
       "      <th>BMI</th>\n",
       "      <th>under-five deaths</th>\n",
       "      <th>Polio</th>\n",
       "      <th>Total expenditure</th>\n",
       "      <th>Diphtheria</th>\n",
       "      <th>HIV/AIDS</th>\n",
       "      <th>GDP</th>\n",
       "      <th>Population</th>\n",
       "      <th>thinness  1-19 years</th>\n",
       "      <th>thinness 5-9 years</th>\n",
       "      <th>Income composition of resources</th>\n",
       "      <th>Schooling</th>\n",
       "    </tr>\n",
       "  </thead>\n",
       "  <tbody>\n",
       "    <tr>\n",
       "      <th>Year</th>\n",
       "      <td>1.000000</td>\n",
       "      <td>0.050771</td>\n",
       "      <td>-0.037092</td>\n",
       "      <td>0.008029</td>\n",
       "      <td>-0.113365</td>\n",
       "      <td>0.069553</td>\n",
       "      <td>0.114897</td>\n",
       "      <td>-0.053822</td>\n",
       "      <td>0.005739</td>\n",
       "      <td>0.010479</td>\n",
       "      <td>-0.016699</td>\n",
       "      <td>0.059493</td>\n",
       "      <td>0.029641</td>\n",
       "      <td>-0.123405</td>\n",
       "      <td>0.096421</td>\n",
       "      <td>0.012567</td>\n",
       "      <td>0.019757</td>\n",
       "      <td>0.014122</td>\n",
       "      <td>0.122892</td>\n",
       "      <td>0.088732</td>\n",
       "    </tr>\n",
       "    <tr>\n",
       "      <th>Life expectancy</th>\n",
       "      <td>0.050771</td>\n",
       "      <td>1.000000</td>\n",
       "      <td>-0.702523</td>\n",
       "      <td>-0.169074</td>\n",
       "      <td>0.402718</td>\n",
       "      <td>0.409631</td>\n",
       "      <td>0.199935</td>\n",
       "      <td>-0.068881</td>\n",
       "      <td>0.542042</td>\n",
       "      <td>-0.192265</td>\n",
       "      <td>0.327294</td>\n",
       "      <td>0.174718</td>\n",
       "      <td>0.341331</td>\n",
       "      <td>-0.592236</td>\n",
       "      <td>0.441322</td>\n",
       "      <td>-0.022305</td>\n",
       "      <td>-0.457838</td>\n",
       "      <td>-0.457508</td>\n",
       "      <td>0.721083</td>\n",
       "      <td>0.727630</td>\n",
       "    </tr>\n",
       "    <tr>\n",
       "      <th>Adult Mortality</th>\n",
       "      <td>-0.037092</td>\n",
       "      <td>-0.702523</td>\n",
       "      <td>1.000000</td>\n",
       "      <td>0.042450</td>\n",
       "      <td>-0.175535</td>\n",
       "      <td>-0.237610</td>\n",
       "      <td>-0.105225</td>\n",
       "      <td>-0.003967</td>\n",
       "      <td>-0.351542</td>\n",
       "      <td>0.060365</td>\n",
       "      <td>-0.199853</td>\n",
       "      <td>-0.085227</td>\n",
       "      <td>-0.191429</td>\n",
       "      <td>0.550691</td>\n",
       "      <td>-0.255035</td>\n",
       "      <td>-0.015012</td>\n",
       "      <td>0.272230</td>\n",
       "      <td>0.286723</td>\n",
       "      <td>-0.442203</td>\n",
       "      <td>-0.421171</td>\n",
       "    </tr>\n",
       "    <tr>\n",
       "      <th>infant deaths</th>\n",
       "      <td>0.008029</td>\n",
       "      <td>-0.169074</td>\n",
       "      <td>0.042450</td>\n",
       "      <td>1.000000</td>\n",
       "      <td>-0.106217</td>\n",
       "      <td>-0.090765</td>\n",
       "      <td>-0.231769</td>\n",
       "      <td>0.532680</td>\n",
       "      <td>-0.234425</td>\n",
       "      <td>0.996906</td>\n",
       "      <td>-0.156929</td>\n",
       "      <td>-0.146951</td>\n",
       "      <td>-0.161871</td>\n",
       "      <td>0.007712</td>\n",
       "      <td>-0.098092</td>\n",
       "      <td>0.671758</td>\n",
       "      <td>0.463415</td>\n",
       "      <td>0.461908</td>\n",
       "      <td>-0.134754</td>\n",
       "      <td>-0.214372</td>\n",
       "    </tr>\n",
       "    <tr>\n",
       "      <th>Alcohol</th>\n",
       "      <td>-0.113365</td>\n",
       "      <td>0.402718</td>\n",
       "      <td>-0.175535</td>\n",
       "      <td>-0.106217</td>\n",
       "      <td>1.000000</td>\n",
       "      <td>0.417047</td>\n",
       "      <td>0.109889</td>\n",
       "      <td>-0.050110</td>\n",
       "      <td>0.353396</td>\n",
       "      <td>-0.101082</td>\n",
       "      <td>0.240315</td>\n",
       "      <td>0.214885</td>\n",
       "      <td>0.242951</td>\n",
       "      <td>-0.027113</td>\n",
       "      <td>0.443433</td>\n",
       "      <td>-0.028880</td>\n",
       "      <td>-0.403755</td>\n",
       "      <td>-0.386208</td>\n",
       "      <td>0.561074</td>\n",
       "      <td>0.616975</td>\n",
       "    </tr>\n",
       "    <tr>\n",
       "      <th>percentage expenditure</th>\n",
       "      <td>0.069553</td>\n",
       "      <td>0.409631</td>\n",
       "      <td>-0.237610</td>\n",
       "      <td>-0.090765</td>\n",
       "      <td>0.417047</td>\n",
       "      <td>1.000000</td>\n",
       "      <td>0.016760</td>\n",
       "      <td>-0.063071</td>\n",
       "      <td>0.242738</td>\n",
       "      <td>-0.092158</td>\n",
       "      <td>0.128626</td>\n",
       "      <td>0.183872</td>\n",
       "      <td>0.134813</td>\n",
       "      <td>-0.095085</td>\n",
       "      <td>0.959299</td>\n",
       "      <td>-0.016792</td>\n",
       "      <td>-0.255035</td>\n",
       "      <td>-0.255635</td>\n",
       "      <td>0.402170</td>\n",
       "      <td>0.422088</td>\n",
       "    </tr>\n",
       "    <tr>\n",
       "      <th>Hepatitis B</th>\n",
       "      <td>0.114897</td>\n",
       "      <td>0.199935</td>\n",
       "      <td>-0.105225</td>\n",
       "      <td>-0.231769</td>\n",
       "      <td>0.109889</td>\n",
       "      <td>0.016760</td>\n",
       "      <td>1.000000</td>\n",
       "      <td>-0.124800</td>\n",
       "      <td>0.143302</td>\n",
       "      <td>-0.240766</td>\n",
       "      <td>0.463331</td>\n",
       "      <td>0.113327</td>\n",
       "      <td>0.588990</td>\n",
       "      <td>-0.094802</td>\n",
       "      <td>0.041850</td>\n",
       "      <td>-0.129723</td>\n",
       "      <td>-0.129406</td>\n",
       "      <td>-0.133251</td>\n",
       "      <td>0.184921</td>\n",
       "      <td>0.215182</td>\n",
       "    </tr>\n",
       "    <tr>\n",
       "      <th>Measles</th>\n",
       "      <td>-0.053822</td>\n",
       "      <td>-0.068881</td>\n",
       "      <td>-0.003967</td>\n",
       "      <td>0.532680</td>\n",
       "      <td>-0.050110</td>\n",
       "      <td>-0.063071</td>\n",
       "      <td>-0.124800</td>\n",
       "      <td>1.000000</td>\n",
       "      <td>-0.153245</td>\n",
       "      <td>0.517506</td>\n",
       "      <td>-0.057850</td>\n",
       "      <td>-0.113583</td>\n",
       "      <td>-0.058606</td>\n",
       "      <td>-0.003522</td>\n",
       "      <td>-0.064768</td>\n",
       "      <td>0.321946</td>\n",
       "      <td>0.180642</td>\n",
       "      <td>0.174946</td>\n",
       "      <td>-0.058277</td>\n",
       "      <td>-0.115660</td>\n",
       "    </tr>\n",
       "    <tr>\n",
       "      <th>BMI</th>\n",
       "      <td>0.005739</td>\n",
       "      <td>0.542042</td>\n",
       "      <td>-0.351542</td>\n",
       "      <td>-0.234425</td>\n",
       "      <td>0.353396</td>\n",
       "      <td>0.242738</td>\n",
       "      <td>0.143302</td>\n",
       "      <td>-0.153245</td>\n",
       "      <td>1.000000</td>\n",
       "      <td>-0.242137</td>\n",
       "      <td>0.186268</td>\n",
       "      <td>0.189469</td>\n",
       "      <td>0.176295</td>\n",
       "      <td>-0.210897</td>\n",
       "      <td>0.266114</td>\n",
       "      <td>-0.081416</td>\n",
       "      <td>-0.547018</td>\n",
       "      <td>-0.554094</td>\n",
       "      <td>0.510505</td>\n",
       "      <td>0.554844</td>\n",
       "    </tr>\n",
       "    <tr>\n",
       "      <th>under-five deaths</th>\n",
       "      <td>0.010479</td>\n",
       "      <td>-0.192265</td>\n",
       "      <td>0.060365</td>\n",
       "      <td>0.996906</td>\n",
       "      <td>-0.101082</td>\n",
       "      <td>-0.092158</td>\n",
       "      <td>-0.240766</td>\n",
       "      <td>0.517506</td>\n",
       "      <td>-0.242137</td>\n",
       "      <td>1.000000</td>\n",
       "      <td>-0.171164</td>\n",
       "      <td>-0.145803</td>\n",
       "      <td>-0.178448</td>\n",
       "      <td>0.019476</td>\n",
       "      <td>-0.100331</td>\n",
       "      <td>0.658680</td>\n",
       "      <td>0.464785</td>\n",
       "      <td>0.462289</td>\n",
       "      <td>-0.148097</td>\n",
       "      <td>-0.226013</td>\n",
       "    </tr>\n",
       "    <tr>\n",
       "      <th>Polio</th>\n",
       "      <td>-0.016699</td>\n",
       "      <td>0.327294</td>\n",
       "      <td>-0.199853</td>\n",
       "      <td>-0.156929</td>\n",
       "      <td>0.240315</td>\n",
       "      <td>0.128626</td>\n",
       "      <td>0.463331</td>\n",
       "      <td>-0.057850</td>\n",
       "      <td>0.186268</td>\n",
       "      <td>-0.171164</td>\n",
       "      <td>1.000000</td>\n",
       "      <td>0.119768</td>\n",
       "      <td>0.609245</td>\n",
       "      <td>-0.107885</td>\n",
       "      <td>0.156809</td>\n",
       "      <td>-0.045387</td>\n",
       "      <td>-0.164070</td>\n",
       "      <td>-0.174489</td>\n",
       "      <td>0.314682</td>\n",
       "      <td>0.350147</td>\n",
       "    </tr>\n",
       "    <tr>\n",
       "      <th>Total expenditure</th>\n",
       "      <td>0.059493</td>\n",
       "      <td>0.174718</td>\n",
       "      <td>-0.085227</td>\n",
       "      <td>-0.146951</td>\n",
       "      <td>0.214885</td>\n",
       "      <td>0.183872</td>\n",
       "      <td>0.113327</td>\n",
       "      <td>-0.113583</td>\n",
       "      <td>0.189469</td>\n",
       "      <td>-0.145803</td>\n",
       "      <td>0.119768</td>\n",
       "      <td>1.000000</td>\n",
       "      <td>0.129915</td>\n",
       "      <td>0.043101</td>\n",
       "      <td>0.180373</td>\n",
       "      <td>-0.079962</td>\n",
       "      <td>-0.209872</td>\n",
       "      <td>-0.217865</td>\n",
       "      <td>0.183653</td>\n",
       "      <td>0.243783</td>\n",
       "    </tr>\n",
       "    <tr>\n",
       "      <th>Diphtheria</th>\n",
       "      <td>0.029641</td>\n",
       "      <td>0.341331</td>\n",
       "      <td>-0.191429</td>\n",
       "      <td>-0.161871</td>\n",
       "      <td>0.242951</td>\n",
       "      <td>0.134813</td>\n",
       "      <td>0.588990</td>\n",
       "      <td>-0.058606</td>\n",
       "      <td>0.176295</td>\n",
       "      <td>-0.178448</td>\n",
       "      <td>0.609245</td>\n",
       "      <td>0.129915</td>\n",
       "      <td>1.000000</td>\n",
       "      <td>-0.117601</td>\n",
       "      <td>0.158438</td>\n",
       "      <td>-0.039898</td>\n",
       "      <td>-0.187242</td>\n",
       "      <td>-0.180952</td>\n",
       "      <td>0.343262</td>\n",
       "      <td>0.350398</td>\n",
       "    </tr>\n",
       "    <tr>\n",
       "      <th>HIV/AIDS</th>\n",
       "      <td>-0.123405</td>\n",
       "      <td>-0.592236</td>\n",
       "      <td>0.550691</td>\n",
       "      <td>0.007712</td>\n",
       "      <td>-0.027113</td>\n",
       "      <td>-0.095085</td>\n",
       "      <td>-0.094802</td>\n",
       "      <td>-0.003522</td>\n",
       "      <td>-0.210897</td>\n",
       "      <td>0.019476</td>\n",
       "      <td>-0.107885</td>\n",
       "      <td>0.043101</td>\n",
       "      <td>-0.117601</td>\n",
       "      <td>1.000000</td>\n",
       "      <td>-0.108081</td>\n",
       "      <td>-0.027801</td>\n",
       "      <td>0.172592</td>\n",
       "      <td>0.183147</td>\n",
       "      <td>-0.248590</td>\n",
       "      <td>-0.211840</td>\n",
       "    </tr>\n",
       "    <tr>\n",
       "      <th>GDP</th>\n",
       "      <td>0.096421</td>\n",
       "      <td>0.441322</td>\n",
       "      <td>-0.255035</td>\n",
       "      <td>-0.098092</td>\n",
       "      <td>0.443433</td>\n",
       "      <td>0.959299</td>\n",
       "      <td>0.041850</td>\n",
       "      <td>-0.064768</td>\n",
       "      <td>0.266114</td>\n",
       "      <td>-0.100331</td>\n",
       "      <td>0.156809</td>\n",
       "      <td>0.180373</td>\n",
       "      <td>0.158438</td>\n",
       "      <td>-0.108081</td>\n",
       "      <td>1.000000</td>\n",
       "      <td>-0.020369</td>\n",
       "      <td>-0.277498</td>\n",
       "      <td>-0.277959</td>\n",
       "      <td>0.446856</td>\n",
       "      <td>0.467947</td>\n",
       "    </tr>\n",
       "    <tr>\n",
       "      <th>Population</th>\n",
       "      <td>0.012567</td>\n",
       "      <td>-0.022305</td>\n",
       "      <td>-0.015012</td>\n",
       "      <td>0.671758</td>\n",
       "      <td>-0.028880</td>\n",
       "      <td>-0.016792</td>\n",
       "      <td>-0.129723</td>\n",
       "      <td>0.321946</td>\n",
       "      <td>-0.081416</td>\n",
       "      <td>0.658680</td>\n",
       "      <td>-0.045387</td>\n",
       "      <td>-0.079962</td>\n",
       "      <td>-0.039898</td>\n",
       "      <td>-0.027801</td>\n",
       "      <td>-0.020369</td>\n",
       "      <td>1.000000</td>\n",
       "      <td>0.282529</td>\n",
       "      <td>0.277913</td>\n",
       "      <td>-0.008132</td>\n",
       "      <td>-0.040312</td>\n",
       "    </tr>\n",
       "    <tr>\n",
       "      <th>thinness  1-19 years</th>\n",
       "      <td>0.019757</td>\n",
       "      <td>-0.457838</td>\n",
       "      <td>0.272230</td>\n",
       "      <td>0.463415</td>\n",
       "      <td>-0.403755</td>\n",
       "      <td>-0.255035</td>\n",
       "      <td>-0.129406</td>\n",
       "      <td>0.180642</td>\n",
       "      <td>-0.547018</td>\n",
       "      <td>0.464785</td>\n",
       "      <td>-0.164070</td>\n",
       "      <td>-0.209872</td>\n",
       "      <td>-0.187242</td>\n",
       "      <td>0.172592</td>\n",
       "      <td>-0.277498</td>\n",
       "      <td>0.282529</td>\n",
       "      <td>1.000000</td>\n",
       "      <td>0.927913</td>\n",
       "      <td>-0.453679</td>\n",
       "      <td>-0.491199</td>\n",
       "    </tr>\n",
       "    <tr>\n",
       "      <th>thinness 5-9 years</th>\n",
       "      <td>0.014122</td>\n",
       "      <td>-0.457508</td>\n",
       "      <td>0.286723</td>\n",
       "      <td>0.461908</td>\n",
       "      <td>-0.386208</td>\n",
       "      <td>-0.255635</td>\n",
       "      <td>-0.133251</td>\n",
       "      <td>0.174946</td>\n",
       "      <td>-0.554094</td>\n",
       "      <td>0.462289</td>\n",
       "      <td>-0.174489</td>\n",
       "      <td>-0.217865</td>\n",
       "      <td>-0.180952</td>\n",
       "      <td>0.183147</td>\n",
       "      <td>-0.277959</td>\n",
       "      <td>0.277913</td>\n",
       "      <td>0.927913</td>\n",
       "      <td>1.000000</td>\n",
       "      <td>-0.438484</td>\n",
       "      <td>-0.472482</td>\n",
       "    </tr>\n",
       "    <tr>\n",
       "      <th>Income composition of resources</th>\n",
       "      <td>0.122892</td>\n",
       "      <td>0.721083</td>\n",
       "      <td>-0.442203</td>\n",
       "      <td>-0.134754</td>\n",
       "      <td>0.561074</td>\n",
       "      <td>0.402170</td>\n",
       "      <td>0.184921</td>\n",
       "      <td>-0.058277</td>\n",
       "      <td>0.510505</td>\n",
       "      <td>-0.148097</td>\n",
       "      <td>0.314682</td>\n",
       "      <td>0.183653</td>\n",
       "      <td>0.343262</td>\n",
       "      <td>-0.248590</td>\n",
       "      <td>0.446856</td>\n",
       "      <td>-0.008132</td>\n",
       "      <td>-0.453679</td>\n",
       "      <td>-0.438484</td>\n",
       "      <td>1.000000</td>\n",
       "      <td>0.784741</td>\n",
       "    </tr>\n",
       "    <tr>\n",
       "      <th>Schooling</th>\n",
       "      <td>0.088732</td>\n",
       "      <td>0.727630</td>\n",
       "      <td>-0.421171</td>\n",
       "      <td>-0.214372</td>\n",
       "      <td>0.616975</td>\n",
       "      <td>0.422088</td>\n",
       "      <td>0.215182</td>\n",
       "      <td>-0.115660</td>\n",
       "      <td>0.554844</td>\n",
       "      <td>-0.226013</td>\n",
       "      <td>0.350147</td>\n",
       "      <td>0.243783</td>\n",
       "      <td>0.350398</td>\n",
       "      <td>-0.211840</td>\n",
       "      <td>0.467947</td>\n",
       "      <td>-0.040312</td>\n",
       "      <td>-0.491199</td>\n",
       "      <td>-0.472482</td>\n",
       "      <td>0.784741</td>\n",
       "      <td>1.000000</td>\n",
       "    </tr>\n",
       "  </tbody>\n",
       "</table>\n",
       "</div>"
      ],
      "text/plain": [
       "                                     Year  Life expectancy   Adult Mortality  \\\n",
       "Year                             1.000000          0.050771        -0.037092   \n",
       "Life expectancy                  0.050771          1.000000        -0.702523   \n",
       "Adult Mortality                 -0.037092         -0.702523         1.000000   \n",
       "infant deaths                    0.008029         -0.169074         0.042450   \n",
       "Alcohol                         -0.113365          0.402718        -0.175535   \n",
       "percentage expenditure           0.069553          0.409631        -0.237610   \n",
       "Hepatitis B                      0.114897          0.199935        -0.105225   \n",
       "Measles                         -0.053822         -0.068881        -0.003967   \n",
       " BMI                             0.005739          0.542042        -0.351542   \n",
       "under-five deaths                0.010479         -0.192265         0.060365   \n",
       "Polio                           -0.016699          0.327294        -0.199853   \n",
       "Total expenditure                0.059493          0.174718        -0.085227   \n",
       "Diphtheria                       0.029641          0.341331        -0.191429   \n",
       " HIV/AIDS                       -0.123405         -0.592236         0.550691   \n",
       "GDP                              0.096421          0.441322        -0.255035   \n",
       "Population                       0.012567         -0.022305        -0.015012   \n",
       " thinness  1-19 years            0.019757         -0.457838         0.272230   \n",
       " thinness 5-9 years              0.014122         -0.457508         0.286723   \n",
       "Income composition of resources  0.122892          0.721083        -0.442203   \n",
       "Schooling                        0.088732          0.727630        -0.421171   \n",
       "\n",
       "                                 infant deaths   Alcohol  \\\n",
       "Year                                  0.008029 -0.113365   \n",
       "Life expectancy                      -0.169074  0.402718   \n",
       "Adult Mortality                       0.042450 -0.175535   \n",
       "infant deaths                         1.000000 -0.106217   \n",
       "Alcohol                              -0.106217  1.000000   \n",
       "percentage expenditure               -0.090765  0.417047   \n",
       "Hepatitis B                          -0.231769  0.109889   \n",
       "Measles                               0.532680 -0.050110   \n",
       " BMI                                 -0.234425  0.353396   \n",
       "under-five deaths                     0.996906 -0.101082   \n",
       "Polio                                -0.156929  0.240315   \n",
       "Total expenditure                    -0.146951  0.214885   \n",
       "Diphtheria                           -0.161871  0.242951   \n",
       " HIV/AIDS                             0.007712 -0.027113   \n",
       "GDP                                  -0.098092  0.443433   \n",
       "Population                            0.671758 -0.028880   \n",
       " thinness  1-19 years                 0.463415 -0.403755   \n",
       " thinness 5-9 years                   0.461908 -0.386208   \n",
       "Income composition of resources      -0.134754  0.561074   \n",
       "Schooling                            -0.214372  0.616975   \n",
       "\n",
       "                                 percentage expenditure  Hepatitis B  \\\n",
       "Year                                           0.069553     0.114897   \n",
       "Life expectancy                                0.409631     0.199935   \n",
       "Adult Mortality                               -0.237610    -0.105225   \n",
       "infant deaths                                 -0.090765    -0.231769   \n",
       "Alcohol                                        0.417047     0.109889   \n",
       "percentage expenditure                         1.000000     0.016760   \n",
       "Hepatitis B                                    0.016760     1.000000   \n",
       "Measles                                       -0.063071    -0.124800   \n",
       " BMI                                           0.242738     0.143302   \n",
       "under-five deaths                             -0.092158    -0.240766   \n",
       "Polio                                          0.128626     0.463331   \n",
       "Total expenditure                              0.183872     0.113327   \n",
       "Diphtheria                                     0.134813     0.588990   \n",
       " HIV/AIDS                                     -0.095085    -0.094802   \n",
       "GDP                                            0.959299     0.041850   \n",
       "Population                                    -0.016792    -0.129723   \n",
       " thinness  1-19 years                         -0.255035    -0.129406   \n",
       " thinness 5-9 years                           -0.255635    -0.133251   \n",
       "Income composition of resources                0.402170     0.184921   \n",
       "Schooling                                      0.422088     0.215182   \n",
       "\n",
       "                                 Measles       BMI   under-five deaths   \\\n",
       "Year                            -0.053822  0.005739            0.010479   \n",
       "Life expectancy                 -0.068881  0.542042           -0.192265   \n",
       "Adult Mortality                 -0.003967 -0.351542            0.060365   \n",
       "infant deaths                    0.532680 -0.234425            0.996906   \n",
       "Alcohol                         -0.050110  0.353396           -0.101082   \n",
       "percentage expenditure          -0.063071  0.242738           -0.092158   \n",
       "Hepatitis B                     -0.124800  0.143302           -0.240766   \n",
       "Measles                          1.000000 -0.153245            0.517506   \n",
       " BMI                            -0.153245  1.000000           -0.242137   \n",
       "under-five deaths                0.517506 -0.242137            1.000000   \n",
       "Polio                           -0.057850  0.186268           -0.171164   \n",
       "Total expenditure               -0.113583  0.189469           -0.145803   \n",
       "Diphtheria                      -0.058606  0.176295           -0.178448   \n",
       " HIV/AIDS                       -0.003522 -0.210897            0.019476   \n",
       "GDP                             -0.064768  0.266114           -0.100331   \n",
       "Population                       0.321946 -0.081416            0.658680   \n",
       " thinness  1-19 years            0.180642 -0.547018            0.464785   \n",
       " thinness 5-9 years              0.174946 -0.554094            0.462289   \n",
       "Income composition of resources -0.058277  0.510505           -0.148097   \n",
       "Schooling                       -0.115660  0.554844           -0.226013   \n",
       "\n",
       "                                    Polio  Total expenditure  Diphtheria   \\\n",
       "Year                            -0.016699           0.059493     0.029641   \n",
       "Life expectancy                  0.327294           0.174718     0.341331   \n",
       "Adult Mortality                 -0.199853          -0.085227    -0.191429   \n",
       "infant deaths                   -0.156929          -0.146951    -0.161871   \n",
       "Alcohol                          0.240315           0.214885     0.242951   \n",
       "percentage expenditure           0.128626           0.183872     0.134813   \n",
       "Hepatitis B                      0.463331           0.113327     0.588990   \n",
       "Measles                         -0.057850          -0.113583    -0.058606   \n",
       " BMI                             0.186268           0.189469     0.176295   \n",
       "under-five deaths               -0.171164          -0.145803    -0.178448   \n",
       "Polio                            1.000000           0.119768     0.609245   \n",
       "Total expenditure                0.119768           1.000000     0.129915   \n",
       "Diphtheria                       0.609245           0.129915     1.000000   \n",
       " HIV/AIDS                       -0.107885           0.043101    -0.117601   \n",
       "GDP                              0.156809           0.180373     0.158438   \n",
       "Population                      -0.045387          -0.079962    -0.039898   \n",
       " thinness  1-19 years           -0.164070          -0.209872    -0.187242   \n",
       " thinness 5-9 years             -0.174489          -0.217865    -0.180952   \n",
       "Income composition of resources  0.314682           0.183653     0.343262   \n",
       "Schooling                        0.350147           0.243783     0.350398   \n",
       "\n",
       "                                  HIV/AIDS       GDP  Population  \\\n",
       "Year                             -0.123405  0.096421    0.012567   \n",
       "Life expectancy                  -0.592236  0.441322   -0.022305   \n",
       "Adult Mortality                   0.550691 -0.255035   -0.015012   \n",
       "infant deaths                     0.007712 -0.098092    0.671758   \n",
       "Alcohol                          -0.027113  0.443433   -0.028880   \n",
       "percentage expenditure           -0.095085  0.959299   -0.016792   \n",
       "Hepatitis B                      -0.094802  0.041850   -0.129723   \n",
       "Measles                          -0.003522 -0.064768    0.321946   \n",
       " BMI                             -0.210897  0.266114   -0.081416   \n",
       "under-five deaths                 0.019476 -0.100331    0.658680   \n",
       "Polio                            -0.107885  0.156809   -0.045387   \n",
       "Total expenditure                 0.043101  0.180373   -0.079962   \n",
       "Diphtheria                       -0.117601  0.158438   -0.039898   \n",
       " HIV/AIDS                         1.000000 -0.108081   -0.027801   \n",
       "GDP                              -0.108081  1.000000   -0.020369   \n",
       "Population                       -0.027801 -0.020369    1.000000   \n",
       " thinness  1-19 years             0.172592 -0.277498    0.282529   \n",
       " thinness 5-9 years               0.183147 -0.277959    0.277913   \n",
       "Income composition of resources  -0.248590  0.446856   -0.008132   \n",
       "Schooling                        -0.211840  0.467947   -0.040312   \n",
       "\n",
       "                                  thinness  1-19 years   thinness 5-9 years  \\\n",
       "Year                                          0.019757             0.014122   \n",
       "Life expectancy                              -0.457838            -0.457508   \n",
       "Adult Mortality                               0.272230             0.286723   \n",
       "infant deaths                                 0.463415             0.461908   \n",
       "Alcohol                                      -0.403755            -0.386208   \n",
       "percentage expenditure                       -0.255035            -0.255635   \n",
       "Hepatitis B                                  -0.129406            -0.133251   \n",
       "Measles                                       0.180642             0.174946   \n",
       " BMI                                         -0.547018            -0.554094   \n",
       "under-five deaths                             0.464785             0.462289   \n",
       "Polio                                        -0.164070            -0.174489   \n",
       "Total expenditure                            -0.209872            -0.217865   \n",
       "Diphtheria                                   -0.187242            -0.180952   \n",
       " HIV/AIDS                                     0.172592             0.183147   \n",
       "GDP                                          -0.277498            -0.277959   \n",
       "Population                                    0.282529             0.277913   \n",
       " thinness  1-19 years                         1.000000             0.927913   \n",
       " thinness 5-9 years                           0.927913             1.000000   \n",
       "Income composition of resources              -0.453679            -0.438484   \n",
       "Schooling                                    -0.491199            -0.472482   \n",
       "\n",
       "                                 Income composition of resources  Schooling  \n",
       "Year                                                    0.122892   0.088732  \n",
       "Life expectancy                                         0.721083   0.727630  \n",
       "Adult Mortality                                        -0.442203  -0.421171  \n",
       "infant deaths                                          -0.134754  -0.214372  \n",
       "Alcohol                                                 0.561074   0.616975  \n",
       "percentage expenditure                                  0.402170   0.422088  \n",
       "Hepatitis B                                             0.184921   0.215182  \n",
       "Measles                                                -0.058277  -0.115660  \n",
       " BMI                                                    0.510505   0.554844  \n",
       "under-five deaths                                      -0.148097  -0.226013  \n",
       "Polio                                                   0.314682   0.350147  \n",
       "Total expenditure                                       0.183653   0.243783  \n",
       "Diphtheria                                              0.343262   0.350398  \n",
       " HIV/AIDS                                              -0.248590  -0.211840  \n",
       "GDP                                                     0.446856   0.467947  \n",
       "Population                                             -0.008132  -0.040312  \n",
       " thinness  1-19 years                                  -0.453679  -0.491199  \n",
       " thinness 5-9 years                                    -0.438484  -0.472482  \n",
       "Income composition of resources                         1.000000   0.784741  \n",
       "Schooling                                               0.784741   1.000000  "
      ]
     },
     "execution_count": 25,
     "metadata": {},
     "output_type": "execute_result"
    }
   ],
   "source": [
    "lindata.corr()"
   ]
  },
  {
   "cell_type": "markdown",
   "metadata": {},
   "source": [
    "Looking at heatmap, there is a good relationship (correlation exists) between the best 'GDP' and 'percentage expenditure' in the Life Expectation data.\n"
   ]
  },
  {
   "cell_type": "code",
   "execution_count": 26,
   "metadata": {},
   "outputs": [
    {
     "name": "stdout",
     "output_type": "stream",
     "text": [
      "Saving figure Correlatipn_Data\n"
     ]
    },
    {
     "data": {
      "image/png": "[encoded data removed]",
      "text/plain": [
       "<Figure size 432x288 with 2 Axes>"
      ]
     },
     "metadata": {
      "needs_background": "light"
     },
     "output_type": "display_data"
    }
   ],
   "source": [
    "# plot the heatmap\n",
    "corr = lindata.corr()\n",
    "\n",
    "sns.heatmap(corr, \n",
    "        xticklabels=corr.columns,\n",
    "        yticklabels=corr.columns)\n",
    "save_fig(\"Correlatipn_Data\")\n"
   ]
  },
  {
   "cell_type": "markdown",
   "metadata": {},
   "source": [
    "Here it is better to establish a linear model between 'GDP' and 'percentage expenditure'. Let's see what our spending percentages are compared to the \"GDP\" increase. Let's create and fit our linear model."
   ]
  },
  {
   "cell_type": "code",
   "execution_count": 27,
   "metadata": {},
   "outputs": [
    {
     "data": {
      "text/plain": [
       "LinearRegression()"
      ]
     },
     "execution_count": 27,
     "metadata": {},
     "output_type": "execute_result"
    }
   ],
   "source": [
    "linear_reg = LinearRegression()\n",
    "x = lindata.GDP.values.reshape(-1,1)\n",
    "y = lindata['percentage expenditure'].values.reshape(-1,1)          \n",
    "\n",
    "linear_reg.fit(x,y)"
   ]
  },
  {
   "cell_type": "markdown",
   "metadata": {},
   "source": [
    "## y = b0 + b1*x is our linear regression model.\n",
    "Let's see estimated percentage of expenditure in GDP 10 thousand:"
   ]
  },
  {
   "cell_type": "code",
   "execution_count": 28,
   "metadata": {},
   "outputs": [
    {
     "name": "stdout",
     "output_type": "stream",
     "text": [
      "b0:  [[1351.02549826]]\n",
      "b1:  [[0.14705833]]\n"
     ]
    }
   ],
   "source": [
    "b0 = linear_reg.predict(([[10000]]))       \n",
    "print(\"b0: \", b0)\n",
    "\n",
    "b1 = linear_reg.coef_\n",
    "print(\"b1: \", b1)"
   ]
  },
  {
   "cell_type": "code",
   "execution_count": 29,
   "metadata": {},
   "outputs": [
    {
     "name": "stdout",
     "output_type": "stream",
     "text": [
      "Saving figure linear_model\n"
     ]
    },
    {
     "data": {
      "image/png": "[encoded data removed]",
      "text/plain": [
       "<Figure size 432x288 with 1 Axes>"
      ]
     },
     "metadata": {
      "needs_background": "light"
     },
     "output_type": "display_data"
    },
    {
     "name": "stdout",
     "output_type": "stream",
     "text": [
      "Mean Absolute Error:  50943.94783778521\n",
      "Mean Squared Error:  3456291221.6604424\n",
      "Root Mean Squared Error:  58790.23066514063\n"
     ]
    }
   ],
   "source": [
    "x_array = np.arange(min(lindata.GDP),max(lindata.GDP)).reshape(-1,1)  # this for information about the line to be predicted\n",
    "\n",
    "plt.scatter(x,y)\n",
    "y_head = linear_reg.predict(x_array)                                 # this is predict percentage of expenditure\n",
    "plt.plot(x_array,y_head,color=\"red\")\n",
    "save_fig(\"linear_model\")\n",
    "plt.show()\n",
    "\n",
    "from sklearn import metrics\n",
    "print(\"Mean Absolute Error: \", metrics.mean_absolute_error(x_array,y_head))\n",
    "print(\"Mean Squared Error: \", metrics.mean_squared_error(x_array,y_head))\n",
    "print(\"Root Mean Squared Error: \", np.sqrt(metrics.mean_squared_error(x_array, y_head)))\n",
    "\n"
   ]
  },
  {
   "cell_type": "code",
   "execution_count": 30,
   "metadata": {},
   "outputs": [
    {
     "name": "stdout",
     "output_type": "stream",
     "text": [
      "0.920254296978608\n"
     ]
    }
   ],
   "source": [
    "print(r2_score(y, linear_reg.predict(x)))"
   ]
  },
  {
   "cell_type": "markdown",
   "metadata": {},
   "source": [
    "#### The conclusion here is: the estimate made has 92% accuracy."
   ]
  },
  {
   "cell_type": "markdown",
   "metadata": {},
   "source": [
    "# Multi Linear Regression\n",
    "\n",
    "* Here, let's take a look at the variable that depends on Life Expectancy.\n",
    "* If there is missing observation or empty, delete it. Or 'data.fillna (data.mean (), inplace = True)' with this make NaN values averaged.\n",
    "* When we look at the data, Country and Status columns are composed of objects. Because we need to be int or float.\n",
    "* and let's take the last two columns (Income composition of resources, schooling) as independent variables."
   ]
  },
  {
   "cell_type": "code",
   "execution_count": 75,
   "metadata": {},
   "outputs": [],
   "source": [
    "Life_Expectancy_Data = pd.read_csv(\"Life Expectancy Data.csv\")\n",
    "data = Life_Expectancy_Data.copy()\n",
    "data = data.dropna()\n",
    "\n",
    "multidata = data.copy()\n",
    "\n",
    "multidata.drop([\"Country\", \"Status\"], axis=1, inplace=True)             # When we look at the data, Country and Status columns are composed of objects. Because we need to be int or float.\n",
    "\n",
    "x = multidata.iloc[:, [-2,-1]].values                                   # I took the last two columns (Income composition of resources, schooling) as independent variables.\n",
    "y = multidata[\"percentage expenditure\"].values.reshape(-1,1)            # our independent variable\n"
   ]
  },
  {
   "cell_type": "code",
   "execution_count": 76,
   "metadata": {},
   "outputs": [],
   "source": [
    "x_train, x_test, y_train, y_test = train_test_split(x, y, test_size = 0.20, random_state= 42)\n",
    "lm = LinearRegression()\n",
    "model = lm.fit(x_train,y_train)"
   ]
  },
  {
   "cell_type": "code",
   "execution_count": 77,
   "metadata": {},
   "outputs": [
    {
     "name": "stdout",
     "output_type": "stream",
     "text": [
      "b0:  [-2735.63211318]\n",
      "b1,b2:  [[1755.9938428   195.23412791]]\n"
     ]
    }
   ],
   "source": [
    "print(\"b0: \", lm.intercept_)\n",
    "print(\"b1,b2: \", lm.coef_)"
   ]
  },
  {
   "cell_type": "markdown",
   "metadata": {},
   "source": [
    "We look at what the data set we created here will affect how much it will affect our survival."
   ]
  },
  {
   "cell_type": "code",
   "execution_count": 78,
   "metadata": {},
   "outputs": [
    {
     "data": {
      "text/plain": [
       "array([[-1935.6175121 ],\n",
       "       [13264.65990838]])"
      ]
     },
     "execution_count": 78,
     "metadata": {},
     "output_type": "execute_result"
    }
   ],
   "source": [
    "new_data = [[0.4,8], [0.5,10]]   \n",
    "new_data = pd.DataFrame(new_data).T       # .T is transfor the chart.\n",
    "model.predict(new_data) "
   ]
  },
  {
   "cell_type": "markdown",
   "metadata": {},
   "source": [
    "### Now let's look at the correctness of the evaluation we made. If the difference between the train error and the test error is not much, modeling is good."
   ]
  },
  {
   "cell_type": "code",
   "execution_count": 79,
   "metadata": {},
   "outputs": [
    {
     "data": {
      "text/plain": [
       "1656.8188428933993"
      ]
     },
     "execution_count": 79,
     "metadata": {},
     "output_type": "execute_result"
    }
   ],
   "source": [
    "rmse = np.sqrt(mean_squared_error(y_train, model.predict(x_train)))\n",
    "rmse"
   ]
  },
  {
   "cell_type": "code",
   "execution_count": 80,
   "metadata": {},
   "outputs": [
    {
     "data": {
      "text/plain": [
       "0.20013529701170407"
      ]
     },
     "execution_count": 80,
     "metadata": {},
     "output_type": "execute_result"
    }
   ],
   "source": [
    "model.score(x_train, y_train) "
   ]
  },
  {
   "cell_type": "markdown",
   "metadata": {},
   "source": [
    "### CV $r^2$ value of the model:"
   ]
  },
  {
   "cell_type": "code",
   "execution_count": 81,
   "metadata": {},
   "outputs": [
    {
     "data": {
      "text/plain": [
       "0.20636638134807272"
      ]
     },
     "execution_count": 81,
     "metadata": {},
     "output_type": "execute_result"
    }
   ],
   "source": [
    "cross_val_score(model, x_train,  y_train, cv= 10, scoring=\"r2\").mean()"
   ]
  },
  {
   "cell_type": "markdown",
   "metadata": {},
   "source": [
    "Predicts of Train set values:"
   ]
  },
  {
   "cell_type": "code",
   "execution_count": 82,
   "metadata": {},
   "outputs": [
    {
     "data": {
      "text/plain": [
       "array([[ 532.26736558],\n",
       "       [1204.73203886],\n",
       "       [2006.21418475],\n",
       "       [  29.9417957 ],\n",
       "       [-880.31581876]])"
      ]
     },
     "execution_count": 82,
     "metadata": {},
     "output_type": "execute_result"
    }
   ],
   "source": [
    "y_head = model.predict(x_test)\n",
    "y_head[0:5]"
   ]
  },
  {
   "cell_type": "code",
   "execution_count": 83,
   "metadata": {
    "_cell_guid": "79c7e3d0-c299-4dcb-8224-4455121ee9b0",
    "_uuid": "d629ff2d2480ee46fbb7e2d37f6b5fab8052498a"
   },
   "outputs": [],
   "source": [
    "y_test_1 =np.array(range(0,len(y_test)))"
   ]
  },
  {
   "cell_type": "code",
   "execution_count": 84,
   "metadata": {},
   "outputs": [
    {
     "name": "stdout",
     "output_type": "stream",
     "text": [
      "Test r2 error =  0.09821875898006727\n",
      "Saving figure Multi_linear_regression\n"
     ]
    },
    {
     "data": {
      "image/png": "[encoded data removed]",
      "text/plain": [
       "<Figure size 432x288 with 1 Axes>"
      ]
     },
     "metadata": {
      "needs_background": "light"
     },
     "output_type": "display_data"
    }
   ],
   "source": [
    "# r2 value: \n",
    "r2_degeri = r2_score(y_test, y_head)\n",
    "print(\"Test r2 error = \",r2_degeri) \n",
    "\n",
    "plt.plot(y_test_1,y_test,color=\"r\")\n",
    "plt.plot(y_test_1,y_head,color=\"blue\")\n",
    "save_fig(\"Multi_linear_regression\")\n",
    "plt.show()\n",
    "\n"
   ]
  },
  {
   "cell_type": "markdown",
   "metadata": {},
   "source": [
    "# Polynomial Regression\n",
    "\n",
    "We will use the same data set."
   ]
  },
  {
   "cell_type": "code",
   "execution_count": 85,
   "metadata": {},
   "outputs": [],
   "source": [
    "from sklearn.preprocessing import PolynomialFeatures     # this gives properties of polynomial\n",
    "\n",
    "Life_Expectancy_Data = pd.read_csv(\"Life Expectancy Data.csv\")\n",
    "data = Life_Expectancy_Data.copy()\n",
    "data = data.dropna()        \n",
    "\n",
    "polydata = data.copy()"
   ]
  },
  {
   "cell_type": "markdown",
   "metadata": {},
   "source": [
    "Let's see what our spending percentages are compared to the \"GDP\" increase. Let's create and fit our linear model."
   ]
  },
  {
   "cell_type": "code",
   "execution_count": 86,
   "metadata": {},
   "outputs": [
    {
     "data": {
      "text/plain": [
       "LinearRegression()"
      ]
     },
     "execution_count": 86,
     "metadata": {},
     "output_type": "execute_result"
    }
   ],
   "source": [
    "linear_reg = LinearRegression()\n",
    "x = polydata.GDP.values.reshape(-1,1)\n",
    "y = polydata['percentage expenditure'].values.reshape(-1,1)          \n",
    "\n",
    "linear_reg.fit(x,y)"
   ]
  },
  {
   "cell_type": "code",
   "execution_count": 87,
   "metadata": {},
   "outputs": [],
   "source": [
    "x_train, x_test, y_train, y_test = train_test_split(x, y, test_size = 0.20, random_state= 42)"
   ]
  },
  {
   "cell_type": "markdown",
   "metadata": {},
   "source": [
    "Let's look at the 15th degree. If it's not, we should change it."
   ]
  },
  {
   "cell_type": "code",
   "execution_count": 155,
   "metadata": {},
   "outputs": [
    {
     "name": "stdout",
     "output_type": "stream",
     "text": [
      "[0.85657121 0.85657121 0.85657121 ... 0.85657121 0.85657121 0.85657121]\n",
      "Saving figure Polynomial_Regression\n"
     ]
    },
    {
     "data": {
      "image/png": "[encoded data removed]",
      "text/plain": [
       "<Figure size 432x288 with 1 Axes>"
      ]
     },
     "metadata": {
      "needs_background": "light"
     },
     "output_type": "display_data"
    }
   ],
   "source": [
    "polynomial_regression = PolynomialFeatures(degree = 15)    \n",
    "x_polynomial = polynomial_regression.fit_transform(x)\n",
    "\n",
    "linear_reg2 = LinearRegression()\n",
    "linear_reg2.fit(x_polynomial,y)\n",
    "\n",
    "y_head = linear_reg2.predict(x_polynomial)\n",
    "#print(x_polynomial)\n",
    "print(y_head)\n",
    "plt.plot(x,y_head,color=\"green\",label=\"poly\")\n",
    "plt.legend()\n",
    "save_fig(\"Polynomial_Regression\")\n",
    "plt.show()\n"
   ]
  },
  {
   "cell_type": "markdown",
   "metadata": {},
   "source": [
    "With degree we determine the precision of our forecast. If it is too large, it will deteriorate, so it is necessary to determine according to the data."
   ]
  },
  {
   "cell_type": "code",
   "execution_count": 89,
   "metadata": {},
   "outputs": [
    {
     "data": {
      "text/plain": [
       "LinearRegression()"
      ]
     },
     "execution_count": 89,
     "metadata": {},
     "output_type": "execute_result"
    }
   ],
   "source": [
    "pol_reg = PolynomialFeatures(degree = 8)                    \n",
    "\n",
    "level_poly = pol_reg.fit_transform(x_train)                 # According to the polynomial, x_train is defined\n",
    "\n",
    "lm = LinearRegression()                                     \n",
    "lm.fit(level_poly,y_train)"
   ]
  },
  {
   "cell_type": "code",
   "execution_count": 90,
   "metadata": {},
   "outputs": [],
   "source": [
    "y_head = lm.predict(pol_reg.fit_transform(x_train))\n",
    "y_test =np.array(range(0,len(y_train)))"
   ]
  },
  {
   "cell_type": "markdown",
   "metadata": {},
   "source": [
    "Consistency and scatter drawing of $r^2$ model:"
   ]
  },
  {
   "cell_type": "code",
   "execution_count": 91,
   "metadata": {},
   "outputs": [
    {
     "name": "stdout",
     "output_type": "stream",
     "text": [
      "r2 value:  0.6496357950943772\n",
      "Saving figure Consistency and scatter drawing of  𝑟2  model\n"
     ]
    },
    {
     "data": {
      "image/png": "[encoded data removed]",
      "text/plain": [
       "<Figure size 432x288 with 1 Axes>"
      ]
     },
     "metadata": {
      "needs_background": "light"
     },
     "output_type": "display_data"
    }
   ],
   "source": [
    "r2 = r2_score(y_train, y_head)\n",
    "print(\"r2 value: \", r2)                               # percentage of significance\n",
    "\n",
    "\n",
    "plt.scatter(y_test, y_train, color=\"red\")\n",
    "plt.scatter(y_test, y_head, color = \"g\")\n",
    "plt.xlabel(\"GDP\")\n",
    "plt.ylabel(\"percentage expenditure\")\n",
    "save_fig(\"Consistency and scatter drawing of  𝑟2  model\")\n",
    "plt.show()\n",
    "\n"
   ]
  },
  {
   "cell_type": "code",
   "execution_count": 93,
   "metadata": {},
   "outputs": [
    {
     "name": "stdout",
     "output_type": "stream",
     "text": [
      "Saving figure GDP_VS_Percentage_expenditure\n"
     ]
    },
    {
     "data": {
      "image/png": "[encoded data removed]",
      "text/plain": [
       "<Figure size 432x288 with 1 Axes>"
      ]
     },
     "metadata": {
      "needs_background": "light"
     },
     "output_type": "display_data"
    }
   ],
   "source": [
    "plt.plot(y_test,y_train, color=\"red\")\n",
    "plt.plot(y_test, y_head, color = \"blue\")\n",
    "plt.xlabel(\"GDP\")\n",
    "plt.ylabel(\"percentage expenditure\")\n",
    "save_fig(\"GDP_VS_Percentage_expenditure\")\n",
    "plt.show()"
   ]
  },
  {
   "cell_type": "markdown",
   "metadata": {},
   "source": [
    "# Decision Tree Regression"
   ]
  },
  {
   "cell_type": "code",
   "execution_count": 94,
   "metadata": {},
   "outputs": [],
   "source": [
    "from sklearn.tree import DecisionTreeRegressor               # for our predict model\n",
    "\n",
    "Life_Expectancy_Data = pd.read_csv(\"Life Expectancy Data.csv\")\n",
    "data = Life_Expectancy_Data.copy()\n",
    "data = data.dropna()                                         # same is done \n",
    "\n",
    "DTdata = data.copy()"
   ]
  },
  {
   "cell_type": "code",
   "execution_count": 95,
   "metadata": {},
   "outputs": [],
   "source": [
    "x = polydata.GDP.values.reshape(-1,1)\n",
    "y = polydata['percentage expenditure'].values.reshape(-1,1)"
   ]
  },
  {
   "cell_type": "code",
   "execution_count": 96,
   "metadata": {},
   "outputs": [],
   "source": [
    "x_train, x_test, y_train, y_test = train_test_split(x, y, test_size = 0.20, random_state= 42)"
   ]
  },
  {
   "cell_type": "markdown",
   "metadata": {},
   "source": [
    "Let's see Expenditure percentage estimation of the country with \"GDP\" value of 1000:"
   ]
  },
  {
   "cell_type": "code",
   "execution_count": 97,
   "metadata": {},
   "outputs": [
    {
     "name": "stdout",
     "output_type": "stream",
     "text": [
      "[98.68367951]\n"
     ]
    }
   ],
   "source": [
    "DT_reg = DecisionTreeRegressor()           # created model\n",
    "DT_reg.fit(x_train,y_train)                # fitted model according to train values\n",
    "\n",
    "print(DT_reg.predict([[1000]]))            "
   ]
  },
  {
   "cell_type": "code",
   "execution_count": 98,
   "metadata": {},
   "outputs": [
    {
     "name": "stdout",
     "output_type": "stream",
     "text": [
      "Saving figure GDP_Vs_PercentageExpenditure\n"
     ]
    },
    {
     "data": {
      "image/png": "[encoded data removed]",
      "text/plain": [
       "<Figure size 432x288 with 1 Axes>"
      ]
     },
     "metadata": {
      "needs_background": "light"
     },
     "output_type": "display_data"
    }
   ],
   "source": [
    "x_array = np.arange(min(x),max(x),0.01).reshape(-1,1)   # line information to be drawn as a predict\n",
    "y_head = DT_reg.predict(x_array)                        # percentage of spend estimate\n",
    "\n",
    "plt.scatter(x,y, color=\"red\")\n",
    "plt.plot(x_array,y_head,color=\"blue\")\n",
    "plt.xlabel(\"GDP\")\n",
    "plt.ylabel(\"percentage expenditure\")\n",
    "save_fig(\"GDP_Vs_PercentageExpenditure\")\n",
    "plt.show()"
   ]
  },
  {
   "cell_type": "markdown",
   "metadata": {},
   "source": [
    "### Result: See how it is nice picture and very successful accuracy score."
   ]
  },
  {
   "cell_type": "markdown",
   "metadata": {},
   "source": [
    "# Random Forest Regression\n",
    "* A logic of DecisionTree. For example, 3000 sample data is selected from 100 thousand data and the result is obtained."
   ]
  },
  {
   "cell_type": "code",
   "execution_count": 99,
   "metadata": {},
   "outputs": [],
   "source": [
    "from sklearn.ensemble import RandomForestRegressor           # for our predict model\n",
    "\n",
    "Life_Expectancy_Data = pd.read_csv(\"Life Expectancy Data.csv\")\n",
    "data = Life_Expectancy_Data.copy()\n",
    "data = data.dropna()                                         # same is done \n",
    "\n",
    "RFdata = data.copy()"
   ]
  },
  {
   "cell_type": "code",
   "execution_count": 100,
   "metadata": {},
   "outputs": [],
   "source": [
    "x = polydata.GDP.values.reshape(-1,1)\n",
    "y = polydata['percentage expenditure'].values.reshape(-1,1)"
   ]
  },
  {
   "cell_type": "markdown",
   "metadata": {},
   "source": [
    "Create regression with 5 DecisionTreeReg in the sklearn RandomForestRegressor model. We can do as many as we want. Giving random_state does not change the outcome. When we say 1, it should not change once."
   ]
  },
  {
   "cell_type": "code",
   "execution_count": 101,
   "metadata": {},
   "outputs": [
    {
     "data": {
      "text/plain": [
       "RandomForestRegressor(random_state=42)"
      ]
     },
     "execution_count": 101,
     "metadata": {},
     "output_type": "execute_result"
    }
   ],
   "source": [
    "RF_reg = RandomForestRegressor(n_estimators=100, random_state=42)          \n",
    "RF_reg.fit(x,y)                                                # the best fit line is drawn"
   ]
  },
  {
   "cell_type": "markdown",
   "metadata": {},
   "source": [
    "Expenditure percentage estimation of the country with \"GDP\" value of 1000:"
   ]
  },
  {
   "cell_type": "code",
   "execution_count": 102,
   "metadata": {},
   "outputs": [
    {
     "name": "stdout",
     "output_type": "stream",
     "text": [
      "[73.33903837]\n"
     ]
    }
   ],
   "source": [
    "print(RF_reg.predict([[1000]]))            "
   ]
  },
  {
   "cell_type": "code",
   "execution_count": 103,
   "metadata": {},
   "outputs": [
    {
     "name": "stdout",
     "output_type": "stream",
     "text": [
      "Saving figure GDP_Percentage_Expenditure\n"
     ]
    },
    {
     "data": {
      "image/png": "[encoded data removed]",
      "text/plain": [
       "<Figure size 432x288 with 1 Axes>"
      ]
     },
     "metadata": {
      "needs_background": "light"
     },
     "output_type": "display_data"
    }
   ],
   "source": [
    "x_array = np.arange(min(x),max(x),0.01).reshape(-1,1)   # line information to be drawn as a predict\n",
    "y_head = RF_reg.predict(x_array)                        # percentage of spend predict\n",
    "\n",
    "plt.scatter(x,y, color=\"red\")\n",
    "plt.plot(x_array,y_head,color=\"blue\")\n",
    "plt.xlabel(\"GDP\")\n",
    "plt.ylabel(\"percentage expenditure\")\n",
    "save_fig(\"GDP_Percentage_Expenditure\")\n",
    "plt.show()"
   ]
  },
  {
   "cell_type": "markdown",
   "metadata": {},
   "source": [
    "### Result: This result good but not so good as BEFORE."
   ]
  },
  {
   "cell_type": "markdown",
   "metadata": {},
   "source": [
    "# Logistic Regression Model\n",
    "\n",
    "* The aim is to reveal the class that will occur when a set of x values that have not yet been observed, to predict a classifier.\n",
    "* For the classification problem, to establish a linear model that defines the relationship between dependent and independent variables.\n",
    "* Regarding whether the dependent variable is 1 or 0 or yes or no status\n",
    "\n",
    "\n",
    "** In this data, we will examine the states of Developed countries (Developed) = 0 and Developing = 1. I want to find the level of development I want, so close to 1!"
   ]
  },
  {
   "cell_type": "markdown",
   "metadata": {},
   "source": [
    "When we look at the country column data, it consists of objects, let's drop it. Because we need int or float values."
   ]
  },
  {
   "cell_type": "code",
   "execution_count": 104,
   "metadata": {},
   "outputs": [
    {
     "data": {
      "text/html": [
       "<div>\n",
       "<style scoped>\n",
       "    .dataframe tbody tr th:only-of-type {\n",
       "        vertical-align: middle;\n",
       "    }\n",
       "\n",
       "    .dataframe tbody tr th {\n",
       "        vertical-align: top;\n",
       "    }\n",
       "\n",
       "    .dataframe thead th {\n",
       "        text-align: right;\n",
       "    }\n",
       "</style>\n",
       "<table border=\"1\" class=\"dataframe\">\n",
       "  <thead>\n",
       "    <tr style=\"text-align: right;\">\n",
       "      <th></th>\n",
       "      <th>Year</th>\n",
       "      <th>Status</th>\n",
       "      <th>Life expectancy</th>\n",
       "      <th>Adult Mortality</th>\n",
       "      <th>infant deaths</th>\n",
       "      <th>Alcohol</th>\n",
       "      <th>percentage expenditure</th>\n",
       "      <th>Hepatitis B</th>\n",
       "      <th>Measles</th>\n",
       "      <th>BMI</th>\n",
       "      <th>...</th>\n",
       "      <th>Polio</th>\n",
       "      <th>Total expenditure</th>\n",
       "      <th>Diphtheria</th>\n",
       "      <th>HIV/AIDS</th>\n",
       "      <th>GDP</th>\n",
       "      <th>Population</th>\n",
       "      <th>thinness  1-19 years</th>\n",
       "      <th>thinness 5-9 years</th>\n",
       "      <th>Income composition of resources</th>\n",
       "      <th>Schooling</th>\n",
       "    </tr>\n",
       "  </thead>\n",
       "  <tbody>\n",
       "    <tr>\n",
       "      <th>0</th>\n",
       "      <td>2015</td>\n",
       "      <td>Developing</td>\n",
       "      <td>65.0</td>\n",
       "      <td>263.0</td>\n",
       "      <td>62</td>\n",
       "      <td>0.01</td>\n",
       "      <td>71.279624</td>\n",
       "      <td>65.0</td>\n",
       "      <td>1154</td>\n",
       "      <td>19.1</td>\n",
       "      <td>...</td>\n",
       "      <td>6.0</td>\n",
       "      <td>8.16</td>\n",
       "      <td>65.0</td>\n",
       "      <td>0.1</td>\n",
       "      <td>584.259210</td>\n",
       "      <td>33736494.0</td>\n",
       "      <td>17.2</td>\n",
       "      <td>17.3</td>\n",
       "      <td>0.479</td>\n",
       "      <td>10.1</td>\n",
       "    </tr>\n",
       "    <tr>\n",
       "      <th>1</th>\n",
       "      <td>2014</td>\n",
       "      <td>Developing</td>\n",
       "      <td>59.9</td>\n",
       "      <td>271.0</td>\n",
       "      <td>64</td>\n",
       "      <td>0.01</td>\n",
       "      <td>73.523582</td>\n",
       "      <td>62.0</td>\n",
       "      <td>492</td>\n",
       "      <td>18.6</td>\n",
       "      <td>...</td>\n",
       "      <td>58.0</td>\n",
       "      <td>8.18</td>\n",
       "      <td>62.0</td>\n",
       "      <td>0.1</td>\n",
       "      <td>612.696514</td>\n",
       "      <td>327582.0</td>\n",
       "      <td>17.5</td>\n",
       "      <td>17.5</td>\n",
       "      <td>0.476</td>\n",
       "      <td>10.0</td>\n",
       "    </tr>\n",
       "    <tr>\n",
       "      <th>2</th>\n",
       "      <td>2013</td>\n",
       "      <td>Developing</td>\n",
       "      <td>59.9</td>\n",
       "      <td>268.0</td>\n",
       "      <td>66</td>\n",
       "      <td>0.01</td>\n",
       "      <td>73.219243</td>\n",
       "      <td>64.0</td>\n",
       "      <td>430</td>\n",
       "      <td>18.1</td>\n",
       "      <td>...</td>\n",
       "      <td>62.0</td>\n",
       "      <td>8.13</td>\n",
       "      <td>64.0</td>\n",
       "      <td>0.1</td>\n",
       "      <td>631.744976</td>\n",
       "      <td>31731688.0</td>\n",
       "      <td>17.7</td>\n",
       "      <td>17.7</td>\n",
       "      <td>0.470</td>\n",
       "      <td>9.9</td>\n",
       "    </tr>\n",
       "    <tr>\n",
       "      <th>3</th>\n",
       "      <td>2012</td>\n",
       "      <td>Developing</td>\n",
       "      <td>59.5</td>\n",
       "      <td>272.0</td>\n",
       "      <td>69</td>\n",
       "      <td>0.01</td>\n",
       "      <td>78.184215</td>\n",
       "      <td>67.0</td>\n",
       "      <td>2787</td>\n",
       "      <td>17.6</td>\n",
       "      <td>...</td>\n",
       "      <td>67.0</td>\n",
       "      <td>8.52</td>\n",
       "      <td>67.0</td>\n",
       "      <td>0.1</td>\n",
       "      <td>669.959000</td>\n",
       "      <td>3696958.0</td>\n",
       "      <td>17.9</td>\n",
       "      <td>18.0</td>\n",
       "      <td>0.463</td>\n",
       "      <td>9.8</td>\n",
       "    </tr>\n",
       "    <tr>\n",
       "      <th>4</th>\n",
       "      <td>2011</td>\n",
       "      <td>Developing</td>\n",
       "      <td>59.2</td>\n",
       "      <td>275.0</td>\n",
       "      <td>71</td>\n",
       "      <td>0.01</td>\n",
       "      <td>7.097109</td>\n",
       "      <td>68.0</td>\n",
       "      <td>3013</td>\n",
       "      <td>17.2</td>\n",
       "      <td>...</td>\n",
       "      <td>68.0</td>\n",
       "      <td>7.87</td>\n",
       "      <td>68.0</td>\n",
       "      <td>0.1</td>\n",
       "      <td>63.537231</td>\n",
       "      <td>2978599.0</td>\n",
       "      <td>18.2</td>\n",
       "      <td>18.2</td>\n",
       "      <td>0.454</td>\n",
       "      <td>9.5</td>\n",
       "    </tr>\n",
       "  </tbody>\n",
       "</table>\n",
       "<p>5 rows × 21 columns</p>\n",
       "</div>"
      ],
      "text/plain": [
       "   Year      Status  Life expectancy   Adult Mortality  infant deaths  \\\n",
       "0  2015  Developing              65.0            263.0             62   \n",
       "1  2014  Developing              59.9            271.0             64   \n",
       "2  2013  Developing              59.9            268.0             66   \n",
       "3  2012  Developing              59.5            272.0             69   \n",
       "4  2011  Developing              59.2            275.0             71   \n",
       "\n",
       "   Alcohol  percentage expenditure  Hepatitis B  Measles    BMI   ...  Polio  \\\n",
       "0     0.01               71.279624         65.0      1154   19.1  ...    6.0   \n",
       "1     0.01               73.523582         62.0       492   18.6  ...   58.0   \n",
       "2     0.01               73.219243         64.0       430   18.1  ...   62.0   \n",
       "3     0.01               78.184215         67.0      2787   17.6  ...   67.0   \n",
       "4     0.01                7.097109         68.0      3013   17.2  ...   68.0   \n",
       "\n",
       "   Total expenditure  Diphtheria    HIV/AIDS         GDP  Population  \\\n",
       "0               8.16         65.0        0.1  584.259210  33736494.0   \n",
       "1               8.18         62.0        0.1  612.696514    327582.0   \n",
       "2               8.13         64.0        0.1  631.744976  31731688.0   \n",
       "3               8.52         67.0        0.1  669.959000   3696958.0   \n",
       "4               7.87         68.0        0.1   63.537231   2978599.0   \n",
       "\n",
       "    thinness  1-19 years   thinness 5-9 years  \\\n",
       "0                   17.2                 17.3   \n",
       "1                   17.5                 17.5   \n",
       "2                   17.7                 17.7   \n",
       "3                   17.9                 18.0   \n",
       "4                   18.2                 18.2   \n",
       "\n",
       "   Income composition of resources  Schooling  \n",
       "0                            0.479       10.1  \n",
       "1                            0.476       10.0  \n",
       "2                            0.470        9.9  \n",
       "3                            0.463        9.8  \n",
       "4                            0.454        9.5  \n",
       "\n",
       "[5 rows x 21 columns]"
      ]
     },
     "execution_count": 104,
     "metadata": {},
     "output_type": "execute_result"
    }
   ],
   "source": [
    "logdata.drop([\"Country\"], axis=1, inplace=True)  \n",
    "logdata.head()"
   ]
  },
  {
   "cell_type": "markdown",
   "metadata": {},
   "source": [
    "Our variable class, which is 1 to 0, let's examine this."
   ]
  },
  {
   "cell_type": "code",
   "execution_count": 105,
   "metadata": {},
   "outputs": [
    {
     "data": {
      "text/plain": [
       "Developing    1407\n",
       "Developed      242\n",
       "Name: Status, dtype: int64"
      ]
     },
     "execution_count": 105,
     "metadata": {},
     "output_type": "execute_result"
    }
   ],
   "source": [
    "logdata[\"Status\"].value_counts()"
   ]
  },
  {
   "cell_type": "markdown",
   "metadata": {},
   "source": [
    "Let's continue with the review."
   ]
  },
  {
   "cell_type": "code",
   "execution_count": 106,
   "metadata": {},
   "outputs": [
    {
     "name": "stdout",
     "output_type": "stream",
     "text": [
      "Saving figure Develop_Developing\n"
     ]
    },
    {
     "data": {
      "image/png": "[encoded data removed]",
      "text/plain": [
       "<Figure size 432x288 with 1 Axes>"
      ]
     },
     "metadata": {
      "needs_background": "light"
     },
     "output_type": "display_data"
    }
   ],
   "source": [
    "logdata[\"Status\"].value_counts().plot.barh();\n",
    "save_fig(\"Develop_Developing\")"
   ]
  },
  {
   "cell_type": "markdown",
   "metadata": {},
   "source": [
    "We need to create binary, that is, from 0 to 1. Let's do the necessary transformations."
   ]
  },
  {
   "cell_type": "code",
   "execution_count": 107,
   "metadata": {},
   "outputs": [],
   "source": [
    "logdata.Status = [1 if each == \"Developing\" else 0 for each in logdata.Status]   "
   ]
  },
  {
   "cell_type": "markdown",
   "metadata": {},
   "source": [
    "Let's look at their general statistical properties."
   ]
  },
  {
   "cell_type": "code",
   "execution_count": 108,
   "metadata": {},
   "outputs": [
    {
     "data": {
      "text/html": [
       "<div>\n",
       "<style scoped>\n",
       "    .dataframe tbody tr th:only-of-type {\n",
       "        vertical-align: middle;\n",
       "    }\n",
       "\n",
       "    .dataframe tbody tr th {\n",
       "        vertical-align: top;\n",
       "    }\n",
       "\n",
       "    .dataframe thead th {\n",
       "        text-align: right;\n",
       "    }\n",
       "</style>\n",
       "<table border=\"1\" class=\"dataframe\">\n",
       "  <thead>\n",
       "    <tr style=\"text-align: right;\">\n",
       "      <th></th>\n",
       "      <th>count</th>\n",
       "      <th>mean</th>\n",
       "      <th>std</th>\n",
       "      <th>min</th>\n",
       "      <th>25%</th>\n",
       "      <th>50%</th>\n",
       "      <th>75%</th>\n",
       "      <th>max</th>\n",
       "    </tr>\n",
       "  </thead>\n",
       "  <tbody>\n",
       "    <tr>\n",
       "      <th>Year</th>\n",
       "      <td>1649.0</td>\n",
       "      <td>2.007841e+03</td>\n",
       "      <td>4.087711e+00</td>\n",
       "      <td>2000.00000</td>\n",
       "      <td>2005.000000</td>\n",
       "      <td>2.008000e+03</td>\n",
       "      <td>2.011000e+03</td>\n",
       "      <td>2.015000e+03</td>\n",
       "    </tr>\n",
       "    <tr>\n",
       "      <th>Status</th>\n",
       "      <td>1649.0</td>\n",
       "      <td>8.532444e-01</td>\n",
       "      <td>3.539695e-01</td>\n",
       "      <td>0.00000</td>\n",
       "      <td>1.000000</td>\n",
       "      <td>1.000000e+00</td>\n",
       "      <td>1.000000e+00</td>\n",
       "      <td>1.000000e+00</td>\n",
       "    </tr>\n",
       "    <tr>\n",
       "      <th>Life expectancy</th>\n",
       "      <td>1649.0</td>\n",
       "      <td>6.930230e+01</td>\n",
       "      <td>8.796834e+00</td>\n",
       "      <td>44.00000</td>\n",
       "      <td>64.400000</td>\n",
       "      <td>7.170000e+01</td>\n",
       "      <td>7.500000e+01</td>\n",
       "      <td>8.900000e+01</td>\n",
       "    </tr>\n",
       "    <tr>\n",
       "      <th>Adult Mortality</th>\n",
       "      <td>1649.0</td>\n",
       "      <td>1.682153e+02</td>\n",
       "      <td>1.253104e+02</td>\n",
       "      <td>1.00000</td>\n",
       "      <td>77.000000</td>\n",
       "      <td>1.480000e+02</td>\n",
       "      <td>2.270000e+02</td>\n",
       "      <td>7.230000e+02</td>\n",
       "    </tr>\n",
       "    <tr>\n",
       "      <th>infant deaths</th>\n",
       "      <td>1649.0</td>\n",
       "      <td>3.255306e+01</td>\n",
       "      <td>1.208472e+02</td>\n",
       "      <td>0.00000</td>\n",
       "      <td>1.000000</td>\n",
       "      <td>3.000000e+00</td>\n",
       "      <td>2.200000e+01</td>\n",
       "      <td>1.600000e+03</td>\n",
       "    </tr>\n",
       "    <tr>\n",
       "      <th>Alcohol</th>\n",
       "      <td>1649.0</td>\n",
       "      <td>4.533196e+00</td>\n",
       "      <td>4.029189e+00</td>\n",
       "      <td>0.01000</td>\n",
       "      <td>0.810000</td>\n",
       "      <td>3.790000e+00</td>\n",
       "      <td>7.340000e+00</td>\n",
       "      <td>1.787000e+01</td>\n",
       "    </tr>\n",
       "    <tr>\n",
       "      <th>percentage expenditure</th>\n",
       "      <td>1649.0</td>\n",
       "      <td>6.989736e+02</td>\n",
       "      <td>1.759229e+03</td>\n",
       "      <td>0.00000</td>\n",
       "      <td>37.438577</td>\n",
       "      <td>1.451023e+02</td>\n",
       "      <td>5.093900e+02</td>\n",
       "      <td>1.896135e+04</td>\n",
       "    </tr>\n",
       "    <tr>\n",
       "      <th>Hepatitis B</th>\n",
       "      <td>1649.0</td>\n",
       "      <td>7.921771e+01</td>\n",
       "      <td>2.560466e+01</td>\n",
       "      <td>2.00000</td>\n",
       "      <td>74.000000</td>\n",
       "      <td>8.900000e+01</td>\n",
       "      <td>9.600000e+01</td>\n",
       "      <td>9.900000e+01</td>\n",
       "    </tr>\n",
       "    <tr>\n",
       "      <th>Measles</th>\n",
       "      <td>1649.0</td>\n",
       "      <td>2.224494e+03</td>\n",
       "      <td>1.008580e+04</td>\n",
       "      <td>0.00000</td>\n",
       "      <td>0.000000</td>\n",
       "      <td>1.500000e+01</td>\n",
       "      <td>3.730000e+02</td>\n",
       "      <td>1.314410e+05</td>\n",
       "    </tr>\n",
       "    <tr>\n",
       "      <th>BMI</th>\n",
       "      <td>1649.0</td>\n",
       "      <td>3.812862e+01</td>\n",
       "      <td>1.975425e+01</td>\n",
       "      <td>2.00000</td>\n",
       "      <td>19.500000</td>\n",
       "      <td>4.370000e+01</td>\n",
       "      <td>5.580000e+01</td>\n",
       "      <td>7.710000e+01</td>\n",
       "    </tr>\n",
       "    <tr>\n",
       "      <th>under-five deaths</th>\n",
       "      <td>1649.0</td>\n",
       "      <td>4.422013e+01</td>\n",
       "      <td>1.628980e+02</td>\n",
       "      <td>0.00000</td>\n",
       "      <td>1.000000</td>\n",
       "      <td>4.000000e+00</td>\n",
       "      <td>2.900000e+01</td>\n",
       "      <td>2.100000e+03</td>\n",
       "    </tr>\n",
       "    <tr>\n",
       "      <th>Polio</th>\n",
       "      <td>1649.0</td>\n",
       "      <td>8.356458e+01</td>\n",
       "      <td>2.245056e+01</td>\n",
       "      <td>3.00000</td>\n",
       "      <td>81.000000</td>\n",
       "      <td>9.300000e+01</td>\n",
       "      <td>9.700000e+01</td>\n",
       "      <td>9.900000e+01</td>\n",
       "    </tr>\n",
       "    <tr>\n",
       "      <th>Total expenditure</th>\n",
       "      <td>1649.0</td>\n",
       "      <td>5.955925e+00</td>\n",
       "      <td>2.299385e+00</td>\n",
       "      <td>0.74000</td>\n",
       "      <td>4.410000</td>\n",
       "      <td>5.840000e+00</td>\n",
       "      <td>7.470000e+00</td>\n",
       "      <td>1.439000e+01</td>\n",
       "    </tr>\n",
       "    <tr>\n",
       "      <th>Diphtheria</th>\n",
       "      <td>1649.0</td>\n",
       "      <td>8.415525e+01</td>\n",
       "      <td>2.157919e+01</td>\n",
       "      <td>2.00000</td>\n",
       "      <td>82.000000</td>\n",
       "      <td>9.200000e+01</td>\n",
       "      <td>9.700000e+01</td>\n",
       "      <td>9.900000e+01</td>\n",
       "    </tr>\n",
       "    <tr>\n",
       "      <th>HIV/AIDS</th>\n",
       "      <td>1649.0</td>\n",
       "      <td>1.983869e+00</td>\n",
       "      <td>6.032360e+00</td>\n",
       "      <td>0.10000</td>\n",
       "      <td>0.100000</td>\n",
       "      <td>1.000000e-01</td>\n",
       "      <td>7.000000e-01</td>\n",
       "      <td>5.060000e+01</td>\n",
       "    </tr>\n",
       "    <tr>\n",
       "      <th>GDP</th>\n",
       "      <td>1649.0</td>\n",
       "      <td>5.566032e+03</td>\n",
       "      <td>1.147590e+04</td>\n",
       "      <td>1.68135</td>\n",
       "      <td>462.149650</td>\n",
       "      <td>1.592572e+03</td>\n",
       "      <td>4.718513e+03</td>\n",
       "      <td>1.191727e+05</td>\n",
       "    </tr>\n",
       "    <tr>\n",
       "      <th>Population</th>\n",
       "      <td>1649.0</td>\n",
       "      <td>1.465363e+07</td>\n",
       "      <td>7.046039e+07</td>\n",
       "      <td>34.00000</td>\n",
       "      <td>191897.000000</td>\n",
       "      <td>1.419631e+06</td>\n",
       "      <td>7.658972e+06</td>\n",
       "      <td>1.293859e+09</td>\n",
       "    </tr>\n",
       "    <tr>\n",
       "      <th>thinness  1-19 years</th>\n",
       "      <td>1649.0</td>\n",
       "      <td>4.850637e+00</td>\n",
       "      <td>4.599228e+00</td>\n",
       "      <td>0.10000</td>\n",
       "      <td>1.600000</td>\n",
       "      <td>3.000000e+00</td>\n",
       "      <td>7.100000e+00</td>\n",
       "      <td>2.720000e+01</td>\n",
       "    </tr>\n",
       "    <tr>\n",
       "      <th>thinness 5-9 years</th>\n",
       "      <td>1649.0</td>\n",
       "      <td>4.907762e+00</td>\n",
       "      <td>4.653757e+00</td>\n",
       "      <td>0.10000</td>\n",
       "      <td>1.700000</td>\n",
       "      <td>3.200000e+00</td>\n",
       "      <td>7.100000e+00</td>\n",
       "      <td>2.820000e+01</td>\n",
       "    </tr>\n",
       "    <tr>\n",
       "      <th>Income composition of resources</th>\n",
       "      <td>1649.0</td>\n",
       "      <td>6.315512e-01</td>\n",
       "      <td>1.830887e-01</td>\n",
       "      <td>0.00000</td>\n",
       "      <td>0.509000</td>\n",
       "      <td>6.730000e-01</td>\n",
       "      <td>7.510000e-01</td>\n",
       "      <td>9.360000e-01</td>\n",
       "    </tr>\n",
       "    <tr>\n",
       "      <th>Schooling</th>\n",
       "      <td>1649.0</td>\n",
       "      <td>1.211989e+01</td>\n",
       "      <td>2.795388e+00</td>\n",
       "      <td>4.20000</td>\n",
       "      <td>10.300000</td>\n",
       "      <td>1.230000e+01</td>\n",
       "      <td>1.400000e+01</td>\n",
       "      <td>2.070000e+01</td>\n",
       "    </tr>\n",
       "  </tbody>\n",
       "</table>\n",
       "</div>"
      ],
      "text/plain": [
       "                                  count          mean           std  \\\n",
       "Year                             1649.0  2.007841e+03  4.087711e+00   \n",
       "Status                           1649.0  8.532444e-01  3.539695e-01   \n",
       "Life expectancy                  1649.0  6.930230e+01  8.796834e+00   \n",
       "Adult Mortality                  1649.0  1.682153e+02  1.253104e+02   \n",
       "infant deaths                    1649.0  3.255306e+01  1.208472e+02   \n",
       "Alcohol                          1649.0  4.533196e+00  4.029189e+00   \n",
       "percentage expenditure           1649.0  6.989736e+02  1.759229e+03   \n",
       "Hepatitis B                      1649.0  7.921771e+01  2.560466e+01   \n",
       "Measles                          1649.0  2.224494e+03  1.008580e+04   \n",
       " BMI                             1649.0  3.812862e+01  1.975425e+01   \n",
       "under-five deaths                1649.0  4.422013e+01  1.628980e+02   \n",
       "Polio                            1649.0  8.356458e+01  2.245056e+01   \n",
       "Total expenditure                1649.0  5.955925e+00  2.299385e+00   \n",
       "Diphtheria                       1649.0  8.415525e+01  2.157919e+01   \n",
       " HIV/AIDS                        1649.0  1.983869e+00  6.032360e+00   \n",
       "GDP                              1649.0  5.566032e+03  1.147590e+04   \n",
       "Population                       1649.0  1.465363e+07  7.046039e+07   \n",
       " thinness  1-19 years            1649.0  4.850637e+00  4.599228e+00   \n",
       " thinness 5-9 years              1649.0  4.907762e+00  4.653757e+00   \n",
       "Income composition of resources  1649.0  6.315512e-01  1.830887e-01   \n",
       "Schooling                        1649.0  1.211989e+01  2.795388e+00   \n",
       "\n",
       "                                        min            25%           50%  \\\n",
       "Year                             2000.00000    2005.000000  2.008000e+03   \n",
       "Status                              0.00000       1.000000  1.000000e+00   \n",
       "Life expectancy                    44.00000      64.400000  7.170000e+01   \n",
       "Adult Mortality                     1.00000      77.000000  1.480000e+02   \n",
       "infant deaths                       0.00000       1.000000  3.000000e+00   \n",
       "Alcohol                             0.01000       0.810000  3.790000e+00   \n",
       "percentage expenditure              0.00000      37.438577  1.451023e+02   \n",
       "Hepatitis B                         2.00000      74.000000  8.900000e+01   \n",
       "Measles                             0.00000       0.000000  1.500000e+01   \n",
       " BMI                                2.00000      19.500000  4.370000e+01   \n",
       "under-five deaths                   0.00000       1.000000  4.000000e+00   \n",
       "Polio                               3.00000      81.000000  9.300000e+01   \n",
       "Total expenditure                   0.74000       4.410000  5.840000e+00   \n",
       "Diphtheria                          2.00000      82.000000  9.200000e+01   \n",
       " HIV/AIDS                           0.10000       0.100000  1.000000e-01   \n",
       "GDP                                 1.68135     462.149650  1.592572e+03   \n",
       "Population                         34.00000  191897.000000  1.419631e+06   \n",
       " thinness  1-19 years               0.10000       1.600000  3.000000e+00   \n",
       " thinness 5-9 years                 0.10000       1.700000  3.200000e+00   \n",
       "Income composition of resources     0.00000       0.509000  6.730000e-01   \n",
       "Schooling                           4.20000      10.300000  1.230000e+01   \n",
       "\n",
       "                                          75%           max  \n",
       "Year                             2.011000e+03  2.015000e+03  \n",
       "Status                           1.000000e+00  1.000000e+00  \n",
       "Life expectancy                  7.500000e+01  8.900000e+01  \n",
       "Adult Mortality                  2.270000e+02  7.230000e+02  \n",
       "infant deaths                    2.200000e+01  1.600000e+03  \n",
       "Alcohol                          7.340000e+00  1.787000e+01  \n",
       "percentage expenditure           5.093900e+02  1.896135e+04  \n",
       "Hepatitis B                      9.600000e+01  9.900000e+01  \n",
       "Measles                          3.730000e+02  1.314410e+05  \n",
       " BMI                             5.580000e+01  7.710000e+01  \n",
       "under-five deaths                2.900000e+01  2.100000e+03  \n",
       "Polio                            9.700000e+01  9.900000e+01  \n",
       "Total expenditure                7.470000e+00  1.439000e+01  \n",
       "Diphtheria                       9.700000e+01  9.900000e+01  \n",
       " HIV/AIDS                        7.000000e-01  5.060000e+01  \n",
       "GDP                              4.718513e+03  1.191727e+05  \n",
       "Population                       7.658972e+06  1.293859e+09  \n",
       " thinness  1-19 years            7.100000e+00  2.720000e+01  \n",
       " thinness 5-9 years              7.100000e+00  2.820000e+01  \n",
       "Income composition of resources  7.510000e-01  9.360000e-01  \n",
       "Schooling                        1.400000e+01  2.070000e+01  "
      ]
     },
     "execution_count": 108,
     "metadata": {},
     "output_type": "execute_result"
    }
   ],
   "source": [
    "\n",
    "logdata.describe().T"
   ]
  },
  {
   "cell_type": "markdown",
   "metadata": {},
   "source": [
    "Let's create our variables now."
   ]
  },
  {
   "cell_type": "code",
   "execution_count": 109,
   "metadata": {},
   "outputs": [],
   "source": [
    "y = logdata[\"Status\"]\n",
    "X_data = logdata.drop([\"Status\"], axis=1)"
   ]
  },
  {
   "cell_type": "markdown",
   "metadata": {},
   "source": [
    "Let's do normalization in our data."
   ]
  },
  {
   "cell_type": "code",
   "execution_count": 110,
   "metadata": {},
   "outputs": [],
   "source": [
    "#*** Normalize ***#\n",
    "\n",
    "X = (X_data - np.min(X_data))/(np.max(X_data) - np.min(X_data)).values"
   ]
  },
  {
   "cell_type": "markdown",
   "metadata": {},
   "source": [
    "Let's build a model through statsmodels and make it fit. Here, the meaning of the model and how much of this variable affects us, comes from this table."
   ]
  },
  {
   "cell_type": "code",
   "execution_count": 111,
   "metadata": {},
   "outputs": [
    {
     "name": "stdout",
     "output_type": "stream",
     "text": [
      "Warning: Maximum number of iterations has been exceeded.\n",
      "         Current function value: 0.150274\n",
      "         Iterations: 35\n"
     ]
    },
    {
     "data": {
      "text/html": [
       "<table class=\"simpletable\">\n",
       "<caption>Logit Regression Results</caption>\n",
       "<tr>\n",
       "  <th>Dep. Variable:</th>        <td>Status</td>      <th>  No. Observations:  </th>   <td>  1649</td>  \n",
       "</tr>\n",
       "<tr>\n",
       "  <th>Model:</th>                 <td>Logit</td>      <th>  Df Residuals:      </th>   <td>  1629</td>  \n",
       "</tr>\n",
       "<tr>\n",
       "  <th>Method:</th>                 <td>MLE</td>       <th>  Df Model:          </th>   <td>    19</td>  \n",
       "</tr>\n",
       "<tr>\n",
       "  <th>Date:</th>            <td>Fri, 16 Apr 2021</td> <th>  Pseudo R-squ.:     </th>   <td>0.6397</td>  \n",
       "</tr>\n",
       "<tr>\n",
       "  <th>Time:</th>                <td>20:25:21</td>     <th>  Log-Likelihood:    </th>  <td> -247.80</td> \n",
       "</tr>\n",
       "<tr>\n",
       "  <th>converged:</th>             <td>False</td>      <th>  LL-Null:           </th>  <td> -687.70</td> \n",
       "</tr>\n",
       "<tr>\n",
       "  <th>Covariance Type:</th>     <td>nonrobust</td>    <th>  LLR p-value:       </th> <td>2.266e-174</td>\n",
       "</tr>\n",
       "</table>\n",
       "<table class=\"simpletable\">\n",
       "<tr>\n",
       "                 <td></td>                    <th>coef</th>     <th>std err</th>      <th>z</th>      <th>P>|z|</th>  <th>[0.025</th>    <th>0.975]</th>  \n",
       "</tr>\n",
       "<tr>\n",
       "  <th>Year</th>                            <td>    1.1540</td> <td>    0.454</td> <td>    2.541</td> <td> 0.011</td> <td>    0.264</td> <td>    2.044</td>\n",
       "</tr>\n",
       "<tr>\n",
       "  <th>Life expectancy </th>                <td>    3.9170</td> <td>    1.395</td> <td>    2.808</td> <td> 0.005</td> <td>    1.183</td> <td>    6.651</td>\n",
       "</tr>\n",
       "<tr>\n",
       "  <th>Adult Mortality</th>                 <td>    8.9129</td> <td>    1.573</td> <td>    5.666</td> <td> 0.000</td> <td>    5.830</td> <td>   11.996</td>\n",
       "</tr>\n",
       "<tr>\n",
       "  <th>infant deaths</th>                   <td>  193.0996</td> <td>  567.163</td> <td>    0.340</td> <td> 0.734</td> <td> -918.519</td> <td> 1304.718</td>\n",
       "</tr>\n",
       "<tr>\n",
       "  <th>Alcohol</th>                         <td>   -7.0471</td> <td>    0.741</td> <td>   -9.507</td> <td> 0.000</td> <td>   -8.500</td> <td>   -5.594</td>\n",
       "</tr>\n",
       "<tr>\n",
       "  <th>percentage expenditure</th>          <td>    2.6330</td> <td>    2.749</td> <td>    0.958</td> <td> 0.338</td> <td>   -2.755</td> <td>    8.021</td>\n",
       "</tr>\n",
       "<tr>\n",
       "  <th>Hepatitis B</th>                     <td>   -2.1891</td> <td>    0.551</td> <td>   -3.975</td> <td> 0.000</td> <td>   -3.269</td> <td>   -1.110</td>\n",
       "</tr>\n",
       "<tr>\n",
       "  <th>Measles </th>                        <td>   -4.6191</td> <td>    8.644</td> <td>   -0.534</td> <td> 0.593</td> <td>  -21.561</td> <td>   12.323</td>\n",
       "</tr>\n",
       "<tr>\n",
       "  <th> BMI </th>                           <td>    0.6859</td> <td>    0.497</td> <td>    1.379</td> <td> 0.168</td> <td>   -0.289</td> <td>    1.661</td>\n",
       "</tr>\n",
       "<tr>\n",
       "  <th>under-five deaths </th>              <td>  428.0952</td> <td>  667.107</td> <td>    0.642</td> <td> 0.521</td> <td> -879.411</td> <td> 1735.602</td>\n",
       "</tr>\n",
       "<tr>\n",
       "  <th>Polio</th>                           <td>    0.4442</td> <td>    0.755</td> <td>    0.588</td> <td> 0.556</td> <td>   -1.036</td> <td>    1.924</td>\n",
       "</tr>\n",
       "<tr>\n",
       "  <th>Total expenditure</th>               <td>    0.4667</td> <td>    0.649</td> <td>    0.719</td> <td> 0.472</td> <td>   -0.805</td> <td>    1.738</td>\n",
       "</tr>\n",
       "<tr>\n",
       "  <th>Diphtheria </th>                     <td>    1.4299</td> <td>    0.773</td> <td>    1.850</td> <td> 0.064</td> <td>   -0.085</td> <td>    2.945</td>\n",
       "</tr>\n",
       "<tr>\n",
       "  <th> HIV/AIDS</th>                       <td> 6172.1062</td> <td>  1.4e+05</td> <td>    0.044</td> <td> 0.965</td> <td>-2.68e+05</td> <td>  2.8e+05</td>\n",
       "</tr>\n",
       "<tr>\n",
       "  <th>GDP</th>                             <td>   -5.0199</td> <td>    2.755</td> <td>   -1.822</td> <td> 0.068</td> <td>  -10.419</td> <td>    0.379</td>\n",
       "</tr>\n",
       "<tr>\n",
       "  <th>Population</th>                      <td>  -13.5912</td> <td>   11.515</td> <td>   -1.180</td> <td> 0.238</td> <td>  -36.159</td> <td>    8.977</td>\n",
       "</tr>\n",
       "<tr>\n",
       "  <th> thinness  1-19 years</th>           <td>   21.1931</td> <td>    7.053</td> <td>    3.005</td> <td> 0.003</td> <td>    7.370</td> <td>   35.016</td>\n",
       "</tr>\n",
       "<tr>\n",
       "  <th> thinness 5-9 years</th>             <td>  -11.7773</td> <td>    6.500</td> <td>   -1.812</td> <td> 0.070</td> <td>  -24.516</td> <td>    0.962</td>\n",
       "</tr>\n",
       "<tr>\n",
       "  <th>Income composition of resources</th> <td>   -0.7261</td> <td>    1.341</td> <td>   -0.541</td> <td> 0.588</td> <td>   -3.355</td> <td>    1.903</td>\n",
       "</tr>\n",
       "<tr>\n",
       "  <th>Schooling</th>                       <td>   -2.5020</td> <td>    1.499</td> <td>   -1.669</td> <td> 0.095</td> <td>   -5.439</td> <td>    0.435</td>\n",
       "</tr>\n",
       "</table><br/><br/>Possibly complete quasi-separation: A fraction 0.52 of observations can be<br/>perfectly predicted. This might indicate that there is complete<br/>quasi-separation. In this case some parameters will not be identified."
      ],
      "text/plain": [
       "<class 'statsmodels.iolib.summary.Summary'>\n",
       "\"\"\"\n",
       "                           Logit Regression Results                           \n",
       "==============================================================================\n",
       "Dep. Variable:                 Status   No. Observations:                 1649\n",
       "Model:                          Logit   Df Residuals:                     1629\n",
       "Method:                           MLE   Df Model:                           19\n",
       "Date:                Fri, 16 Apr 2021   Pseudo R-squ.:                  0.6397\n",
       "Time:                        20:25:21   Log-Likelihood:                -247.80\n",
       "converged:                      False   LL-Null:                       -687.70\n",
       "Covariance Type:            nonrobust   LLR p-value:                2.266e-174\n",
       "===================================================================================================\n",
       "                                      coef    std err          z      P>|z|      [0.025      0.975]\n",
       "---------------------------------------------------------------------------------------------------\n",
       "Year                                1.1540      0.454      2.541      0.011       0.264       2.044\n",
       "Life expectancy                     3.9170      1.395      2.808      0.005       1.183       6.651\n",
       "Adult Mortality                     8.9129      1.573      5.666      0.000       5.830      11.996\n",
       "infant deaths                     193.0996    567.163      0.340      0.734    -918.519    1304.718\n",
       "Alcohol                            -7.0471      0.741     -9.507      0.000      -8.500      -5.594\n",
       "percentage expenditure              2.6330      2.749      0.958      0.338      -2.755       8.021\n",
       "Hepatitis B                        -2.1891      0.551     -3.975      0.000      -3.269      -1.110\n",
       "Measles                            -4.6191      8.644     -0.534      0.593     -21.561      12.323\n",
       " BMI                                0.6859      0.497      1.379      0.168      -0.289       1.661\n",
       "under-five deaths                 428.0952    667.107      0.642      0.521    -879.411    1735.602\n",
       "Polio                               0.4442      0.755      0.588      0.556      -1.036       1.924\n",
       "Total expenditure                   0.4667      0.649      0.719      0.472      -0.805       1.738\n",
       "Diphtheria                          1.4299      0.773      1.850      0.064      -0.085       2.945\n",
       " HIV/AIDS                        6172.1062    1.4e+05      0.044      0.965   -2.68e+05     2.8e+05\n",
       "GDP                                -5.0199      2.755     -1.822      0.068     -10.419       0.379\n",
       "Population                        -13.5912     11.515     -1.180      0.238     -36.159       8.977\n",
       " thinness  1-19 years              21.1931      7.053      3.005      0.003       7.370      35.016\n",
       " thinness 5-9 years               -11.7773      6.500     -1.812      0.070     -24.516       0.962\n",
       "Income composition of resources    -0.7261      1.341     -0.541      0.588      -3.355       1.903\n",
       "Schooling                          -2.5020      1.499     -1.669      0.095      -5.439       0.435\n",
       "===================================================================================================\n",
       "\n",
       "Possibly complete quasi-separation: A fraction 0.52 of observations can be\n",
       "perfectly predicted. This might indicate that there is complete\n",
       "quasi-separation. In this case some parameters will not be identified.\n",
       "\"\"\""
      ]
     },
     "execution_count": 111,
     "metadata": {},
     "output_type": "execute_result"
    }
   ],
   "source": [
    "loj = sm.Logit(y, X)\n",
    "loj_model= loj.fit()\n",
    "loj_model.summary()"
   ]
  },
  {
   "cell_type": "markdown",
   "metadata": {},
   "source": [
    "Then see model:"
   ]
  },
  {
   "cell_type": "code",
   "execution_count": 112,
   "metadata": {},
   "outputs": [
    {
     "data": {
      "text/plain": [
       "LogisticRegression(solver='liblinear')"
      ]
     },
     "execution_count": 112,
     "metadata": {},
     "output_type": "execute_result"
    }
   ],
   "source": [
    "from sklearn.linear_model import LogisticRegression\n",
    "loj = LogisticRegression(solver = \"liblinear\")\n",
    "loj_model = loj.fit(X,y)\n",
    "loj_model"
   ]
  },
  {
   "cell_type": "code",
   "execution_count": 113,
   "metadata": {},
   "outputs": [
    {
     "data": {
      "text/plain": [
       "array([5.83327627])"
      ]
     },
     "execution_count": 113,
     "metadata": {},
     "output_type": "execute_result"
    }
   ],
   "source": [
    "# constant value\n",
    "loj_model.intercept_"
   ]
  },
  {
   "cell_type": "markdown",
   "metadata": {},
   "source": [
    "Coefficient values of all independent variables:"
   ]
  },
  {
   "cell_type": "code",
   "execution_count": 114,
   "metadata": {},
   "outputs": [
    {
     "data": {
      "text/plain": [
       "array([[ 1.08208352, -1.39357844,  3.4092507 ,  0.47089776, -5.35962717,\n",
       "        -0.78837698, -1.44070589,  0.37059599, -0.05002695,  0.43758173,\n",
       "         0.22862697, -0.10185549,  0.72963257,  0.51727771, -1.44175632,\n",
       "         0.42676196,  1.95007174,  1.79088634, -1.29839592, -1.92931239]])"
      ]
     },
     "execution_count": 114,
     "metadata": {},
     "output_type": "execute_result"
    }
   ],
   "source": [
    "loj_model.coef_"
   ]
  },
  {
   "cell_type": "markdown",
   "metadata": {},
   "source": [
    "# PREDICT and MODEL TUNNING"
   ]
  },
  {
   "cell_type": "code",
   "execution_count": 115,
   "metadata": {},
   "outputs": [],
   "source": [
    "y_pred = loj_model.predict(X)              # predict"
   ]
  },
  {
   "cell_type": "markdown",
   "metadata": {},
   "source": [
    "Confusion Matrix: Those that are 1 (PP) when it is 1 in reality, 0 (PN) when it is 1, 1 (NP) when it is 0 when it is 0 (NN) when it is 0."
   ]
  },
  {
   "cell_type": "code",
   "execution_count": 116,
   "metadata": {},
   "outputs": [
    {
     "data": {
      "text/plain": [
       "array([[ 169,   73],\n",
       "       [  45, 1362]], dtype=int64)"
      ]
     },
     "execution_count": 116,
     "metadata": {},
     "output_type": "execute_result"
    }
   ],
   "source": [
    "confusion_matrix(y, y_pred)"
   ]
  },
  {
   "cell_type": "markdown",
   "metadata": {},
   "source": [
    "See accuracy score:"
   ]
  },
  {
   "cell_type": "code",
   "execution_count": 117,
   "metadata": {},
   "outputs": [
    {
     "data": {
      "text/plain": [
       "0.9284414796846574"
      ]
     },
     "execution_count": 117,
     "metadata": {},
     "output_type": "execute_result"
    }
   ],
   "source": [
    "accuracy_score(y, y_pred)"
   ]
  },
  {
   "cell_type": "markdown",
   "metadata": {},
   "source": [
    "One of the outputs that will evaluate the results of a most detailed classification algorithm."
   ]
  },
  {
   "cell_type": "code",
   "execution_count": 118,
   "metadata": {},
   "outputs": [
    {
     "name": "stdout",
     "output_type": "stream",
     "text": [
      "              precision    recall  f1-score   support\n",
      "\n",
      "           0       0.79      0.70      0.74       242\n",
      "           1       0.95      0.97      0.96      1407\n",
      "\n",
      "    accuracy                           0.93      1649\n",
      "   macro avg       0.87      0.83      0.85      1649\n",
      "weighted avg       0.93      0.93      0.93      1649\n",
      "\n"
     ]
    }
   ],
   "source": [
    "print(classification_report(y, y_pred))"
   ]
  },
  {
   "cell_type": "markdown",
   "metadata": {},
   "source": [
    "See top 10 model predict values:"
   ]
  },
  {
   "cell_type": "code",
   "execution_count": 119,
   "metadata": {},
   "outputs": [
    {
     "data": {
      "text/plain": [
       "array([1, 1, 1, 1, 1, 1, 1, 1, 1, 1], dtype=int64)"
      ]
     },
     "execution_count": 119,
     "metadata": {},
     "output_type": "execute_result"
    }
   ],
   "source": [
    "loj_model.predict(X)[0:10]"
   ]
  },
  {
   "cell_type": "markdown",
   "metadata": {},
   "source": [
    "* Using the 'predict_proba' module if we want to give the noble values rather than the values given above 1 and 0.\n",
    "\n",
    "\n",
    "* Returns the values of 0 in the index or left side of 0, and values of 1 in the index 1 or of the right side of the matrix."
   ]
  },
  {
   "cell_type": "code",
   "execution_count": 120,
   "metadata": {},
   "outputs": [
    {
     "data": {
      "text/plain": [
       "array([[3.37705587e-04, 9.99662294e-01],\n",
       "       [2.48289180e-04, 9.99751711e-01],\n",
       "       [2.56463490e-04, 9.99743537e-01],\n",
       "       [2.56505623e-04, 9.99743494e-01],\n",
       "       [2.45099743e-04, 9.99754900e-01],\n",
       "       [2.40236658e-04, 9.99759763e-01],\n",
       "       [2.28381644e-04, 9.99771618e-01],\n",
       "       [2.23361824e-04, 9.99776638e-01],\n",
       "       [2.02091865e-04, 9.99797908e-01],\n",
       "       [2.15773261e-04, 9.99784227e-01]])"
      ]
     },
     "execution_count": 120,
     "metadata": {},
     "output_type": "execute_result"
    }
   ],
   "source": [
    "\n",
    "loj_model.predict_proba(X)[0:10][:,0:2]                # Top 10"
   ]
  },
  {
   "cell_type": "markdown",
   "metadata": {},
   "source": [
    "Now let's try to model the ten prediction probability values above 'predict_proba'."
   ]
  },
  {
   "cell_type": "code",
   "execution_count": 121,
   "metadata": {},
   "outputs": [],
   "source": [
    "\n",
    "y_probs = loj_model.predict_proba(X)\n",
    "y_probs = y_probs[:,1]"
   ]
  },
  {
   "cell_type": "code",
   "execution_count": 122,
   "metadata": {},
   "outputs": [
    {
     "data": {
      "text/plain": [
       "array([0.99966229, 0.99975171, 0.99974354, 0.99974349, 0.9997549 ,\n",
       "       0.99975976, 0.99977162, 0.99977664, 0.99979791, 0.99978423])"
      ]
     },
     "execution_count": 122,
     "metadata": {},
     "output_type": "execute_result"
    }
   ],
   "source": [
    "y_probs[0:10]               # top 10"
   ]
  },
  {
   "cell_type": "markdown",
   "metadata": {},
   "source": [
    "Put our guess values here in the loop and give it 1 to 0.5 and 0 to the little ones."
   ]
  },
  {
   "cell_type": "code",
   "execution_count": 123,
   "metadata": {},
   "outputs": [],
   "source": [
    "\n",
    "y_pred = [1 if i > 0.5 else 0 for i in y_probs]"
   ]
  },
  {
   "cell_type": "markdown",
   "metadata": {},
   "source": [
    "When we look at the value above, we notice the change. Our purpose to do this is to verify our model."
   ]
  },
  {
   "cell_type": "code",
   "execution_count": 124,
   "metadata": {},
   "outputs": [
    {
     "data": {
      "text/plain": [
       "[1, 1, 1, 1, 1, 1, 1, 1, 1, 1]"
      ]
     },
     "execution_count": 124,
     "metadata": {},
     "output_type": "execute_result"
    }
   ],
   "source": [
    "\n",
    "y_pred[0:10]\n"
   ]
  },
  {
   "cell_type": "code",
   "execution_count": 125,
   "metadata": {},
   "outputs": [
    {
     "data": {
      "text/plain": [
       "array([[ 169,   73],\n",
       "       [  45, 1362]], dtype=int64)"
      ]
     },
     "execution_count": 125,
     "metadata": {},
     "output_type": "execute_result"
    }
   ],
   "source": [
    "\n",
    "confusion_matrix(y, y_pred)\n"
   ]
  },
  {
   "cell_type": "code",
   "execution_count": 126,
   "metadata": {},
   "outputs": [
    {
     "data": {
      "text/plain": [
       "0.9284414796846574"
      ]
     },
     "execution_count": 126,
     "metadata": {},
     "output_type": "execute_result"
    }
   ],
   "source": [
    "accuracy_score(y, y_pred)"
   ]
  },
  {
   "cell_type": "code",
   "execution_count": 127,
   "metadata": {},
   "outputs": [
    {
     "name": "stdout",
     "output_type": "stream",
     "text": [
      "              precision    recall  f1-score   support\n",
      "\n",
      "           0       0.79      0.70      0.74       242\n",
      "           1       0.95      0.97      0.96      1407\n",
      "\n",
      "    accuracy                           0.93      1649\n",
      "   macro avg       0.87      0.83      0.85      1649\n",
      "weighted avg       0.93      0.93      0.93      1649\n",
      "\n"
     ]
    }
   ],
   "source": [
    "print(classification_report(y, y_pred))"
   ]
  },
  {
   "cell_type": "markdown",
   "metadata": {},
   "source": [
    "Let's do one more look at the top 5 elements we did above."
   ]
  },
  {
   "cell_type": "code",
   "execution_count": 128,
   "metadata": {},
   "outputs": [
    {
     "data": {
      "text/plain": [
       "array([0.99966229, 0.99975171, 0.99974354, 0.99974349, 0.9997549 ])"
      ]
     },
     "execution_count": 128,
     "metadata": {},
     "output_type": "execute_result"
    }
   ],
   "source": [
    "\n",
    "loj_model.predict_proba(X)[:,1][0:5]"
   ]
  },
  {
   "cell_type": "code",
   "execution_count": 129,
   "metadata": {},
   "outputs": [],
   "source": [
    "logit_roc_auc = roc_auc_score(y, loj_model.predict(X))"
   ]
  },
  {
   "cell_type": "code",
   "execution_count": 130,
   "metadata": {},
   "outputs": [
    {
     "name": "stdout",
     "output_type": "stream",
     "text": [
      "Saving figure ROC\n"
     ]
    },
    {
     "data": {
      "image/png": "[encoded data removed]",
      "text/plain": [
       "<Figure size 432x288 with 1 Axes>"
      ]
     },
     "metadata": {
      "needs_background": "light"
     },
     "output_type": "display_data"
    }
   ],
   "source": [
    "fpr, tpr, thresholds = roc_curve(y, loj_model.predict_proba(X)[:,1])\n",
    "plt.figure()\n",
    "plt.plot(fpr, tpr, label='AUC (area = %0.2f)' % logit_roc_auc)\n",
    "plt.plot([0, 1], [0, 1],'r--')\n",
    "plt.xlim([0.0, 1.0])\n",
    "plt.ylim([0.0, 1.05])\n",
    "plt.xlabel('False Positive Oranı')\n",
    "plt.ylabel('True Positive Oranı')\n",
    "plt.title('ROC')\n",
    "save_fig(\"ROC\")\n",
    "plt.show()\n"
   ]
  },
  {
   "cell_type": "markdown",
   "metadata": {},
   "source": [
    "Here, \n",
    "\n",
    "- blueline: The graphic of our success regarding the model we have established.\n",
    "- redline: If we don't do anything, our model will be this way. "
   ]
  },
  {
   "cell_type": "code",
   "execution_count": 131,
   "metadata": {},
   "outputs": [],
   "source": [
    "# test train is subjected to separation\n",
    "X_train, X_test, y_train, y_test = train_test_split(X, y, test_size = 0.20, random_state = 42)\n"
   ]
  },
  {
   "cell_type": "markdown",
   "metadata": {},
   "source": [
    "# Let's create and fit our model."
   ]
  },
  {
   "cell_type": "code",
   "execution_count": 145,
   "metadata": {},
   "outputs": [
    {
     "data": {
      "text/plain": [
       "LogisticRegression(solver='liblinear')"
      ]
     },
     "execution_count": 145,
     "metadata": {},
     "output_type": "execute_result"
    }
   ],
   "source": [
    "\n",
    "loj = LogisticRegression(solver = \"liblinear\")\n",
    "loj_model = loj.fit(X_train,y_train)\n",
    "loj_model\n",
    "\n",
    "loj_model"
   ]
  },
  {
   "cell_type": "code",
   "execution_count": null,
   "metadata": {},
   "outputs": [],
   "source": [
    "Life_Expectancy_Data.iloc[1]"
   ]
  },
  {
   "cell_type": "code",
   "execution_count": null,
   "metadata": {},
   "outputs": [],
   "source": [
    "accuracy_score(y_test, loj_model.predict(X_test))"
   ]
  },
  {
   "cell_type": "code",
   "execution_count": 147,
   "metadata": {},
   "outputs": [
    {
     "data": {
      "text/html": [
       "<div>\n",
       "<style scoped>\n",
       "    .dataframe tbody tr th:only-of-type {\n",
       "        vertical-align: middle;\n",
       "    }\n",
       "\n",
       "    .dataframe tbody tr th {\n",
       "        vertical-align: top;\n",
       "    }\n",
       "\n",
       "    .dataframe thead th {\n",
       "        text-align: right;\n",
       "    }\n",
       "</style>\n",
       "<table border=\"1\" class=\"dataframe\">\n",
       "  <thead>\n",
       "    <tr style=\"text-align: right;\">\n",
       "      <th></th>\n",
       "      <th>Year</th>\n",
       "      <th>Life expectancy</th>\n",
       "      <th>Adult Mortality</th>\n",
       "      <th>infant deaths</th>\n",
       "      <th>Alcohol</th>\n",
       "      <th>percentage expenditure</th>\n",
       "      <th>Hepatitis B</th>\n",
       "      <th>Measles</th>\n",
       "      <th>BMI</th>\n",
       "      <th>under-five deaths</th>\n",
       "      <th>Polio</th>\n",
       "      <th>Total expenditure</th>\n",
       "      <th>Diphtheria</th>\n",
       "      <th>HIV/AIDS</th>\n",
       "      <th>GDP</th>\n",
       "      <th>Population</th>\n",
       "      <th>thinness  1-19 years</th>\n",
       "      <th>thinness 5-9 years</th>\n",
       "      <th>Income composition of resources</th>\n",
       "      <th>Schooling</th>\n",
       "    </tr>\n",
       "  </thead>\n",
       "  <tbody>\n",
       "    <tr>\n",
       "      <th>0</th>\n",
       "      <td>1.000000</td>\n",
       "      <td>0.466667</td>\n",
       "      <td>0.362881</td>\n",
       "      <td>0.038750</td>\n",
       "      <td>0.000000</td>\n",
       "      <td>0.003759</td>\n",
       "      <td>0.649485</td>\n",
       "      <td>0.008780</td>\n",
       "      <td>0.227696</td>\n",
       "      <td>0.039524</td>\n",
       "      <td>0.031250</td>\n",
       "      <td>0.543590</td>\n",
       "      <td>0.649485</td>\n",
       "      <td>0.000000</td>\n",
       "      <td>0.004889</td>\n",
       "      <td>0.026074</td>\n",
       "      <td>0.630996</td>\n",
       "      <td>0.612100</td>\n",
       "      <td>0.511752</td>\n",
       "      <td>0.357576</td>\n",
       "    </tr>\n",
       "    <tr>\n",
       "      <th>1</th>\n",
       "      <td>0.933333</td>\n",
       "      <td>0.353333</td>\n",
       "      <td>0.373961</td>\n",
       "      <td>0.040000</td>\n",
       "      <td>0.000000</td>\n",
       "      <td>0.003878</td>\n",
       "      <td>0.618557</td>\n",
       "      <td>0.003743</td>\n",
       "      <td>0.221039</td>\n",
       "      <td>0.040952</td>\n",
       "      <td>0.572917</td>\n",
       "      <td>0.545055</td>\n",
       "      <td>0.618557</td>\n",
       "      <td>0.000000</td>\n",
       "      <td>0.005127</td>\n",
       "      <td>0.000253</td>\n",
       "      <td>0.642066</td>\n",
       "      <td>0.619217</td>\n",
       "      <td>0.508547</td>\n",
       "      <td>0.351515</td>\n",
       "    </tr>\n",
       "    <tr>\n",
       "      <th>2</th>\n",
       "      <td>0.866667</td>\n",
       "      <td>0.353333</td>\n",
       "      <td>0.369806</td>\n",
       "      <td>0.041250</td>\n",
       "      <td>0.000000</td>\n",
       "      <td>0.003861</td>\n",
       "      <td>0.639175</td>\n",
       "      <td>0.003271</td>\n",
       "      <td>0.214381</td>\n",
       "      <td>0.042381</td>\n",
       "      <td>0.614583</td>\n",
       "      <td>0.541392</td>\n",
       "      <td>0.639175</td>\n",
       "      <td>0.000000</td>\n",
       "      <td>0.005287</td>\n",
       "      <td>0.024525</td>\n",
       "      <td>0.649446</td>\n",
       "      <td>0.626335</td>\n",
       "      <td>0.502137</td>\n",
       "      <td>0.345455</td>\n",
       "    </tr>\n",
       "    <tr>\n",
       "      <th>3</th>\n",
       "      <td>0.800000</td>\n",
       "      <td>0.344444</td>\n",
       "      <td>0.375346</td>\n",
       "      <td>0.043125</td>\n",
       "      <td>0.000000</td>\n",
       "      <td>0.004123</td>\n",
       "      <td>0.670103</td>\n",
       "      <td>0.021203</td>\n",
       "      <td>0.207723</td>\n",
       "      <td>0.044286</td>\n",
       "      <td>0.666667</td>\n",
       "      <td>0.569963</td>\n",
       "      <td>0.670103</td>\n",
       "      <td>0.000000</td>\n",
       "      <td>0.005608</td>\n",
       "      <td>0.002857</td>\n",
       "      <td>0.656827</td>\n",
       "      <td>0.637011</td>\n",
       "      <td>0.494658</td>\n",
       "      <td>0.339394</td>\n",
       "    </tr>\n",
       "    <tr>\n",
       "      <th>4</th>\n",
       "      <td>0.733333</td>\n",
       "      <td>0.337778</td>\n",
       "      <td>0.379501</td>\n",
       "      <td>0.044375</td>\n",
       "      <td>0.000000</td>\n",
       "      <td>0.000374</td>\n",
       "      <td>0.680412</td>\n",
       "      <td>0.022923</td>\n",
       "      <td>0.202397</td>\n",
       "      <td>0.046190</td>\n",
       "      <td>0.677083</td>\n",
       "      <td>0.522344</td>\n",
       "      <td>0.680412</td>\n",
       "      <td>0.000000</td>\n",
       "      <td>0.000519</td>\n",
       "      <td>0.002302</td>\n",
       "      <td>0.667897</td>\n",
       "      <td>0.644128</td>\n",
       "      <td>0.485043</td>\n",
       "      <td>0.321212</td>\n",
       "    </tr>\n",
       "    <tr>\n",
       "      <th>...</th>\n",
       "      <td>...</td>\n",
       "      <td>...</td>\n",
       "      <td>...</td>\n",
       "      <td>...</td>\n",
       "      <td>...</td>\n",
       "      <td>...</td>\n",
       "      <td>...</td>\n",
       "      <td>...</td>\n",
       "      <td>...</td>\n",
       "      <td>...</td>\n",
       "      <td>...</td>\n",
       "      <td>...</td>\n",
       "      <td>...</td>\n",
       "      <td>...</td>\n",
       "      <td>...</td>\n",
       "      <td>...</td>\n",
       "      <td>...</td>\n",
       "      <td>...</td>\n",
       "      <td>...</td>\n",
       "      <td>...</td>\n",
       "    </tr>\n",
       "    <tr>\n",
       "      <th>2933</th>\n",
       "      <td>0.266667</td>\n",
       "      <td>0.006667</td>\n",
       "      <td>1.000000</td>\n",
       "      <td>0.016875</td>\n",
       "      <td>0.243561</td>\n",
       "      <td>0.000000</td>\n",
       "      <td>0.680412</td>\n",
       "      <td>0.000236</td>\n",
       "      <td>0.334221</td>\n",
       "      <td>0.020000</td>\n",
       "      <td>0.666667</td>\n",
       "      <td>0.468132</td>\n",
       "      <td>0.649485</td>\n",
       "      <td>0.663366</td>\n",
       "      <td>0.003799</td>\n",
       "      <td>0.009875</td>\n",
       "      <td>0.343173</td>\n",
       "      <td>0.330961</td>\n",
       "      <td>0.434829</td>\n",
       "      <td>0.303030</td>\n",
       "    </tr>\n",
       "    <tr>\n",
       "      <th>2934</th>\n",
       "      <td>0.200000</td>\n",
       "      <td>0.011111</td>\n",
       "      <td>0.988920</td>\n",
       "      <td>0.016250</td>\n",
       "      <td>0.226764</td>\n",
       "      <td>0.000000</td>\n",
       "      <td>0.051546</td>\n",
       "      <td>0.007593</td>\n",
       "      <td>0.328895</td>\n",
       "      <td>0.019524</td>\n",
       "      <td>0.041667</td>\n",
       "      <td>0.423443</td>\n",
       "      <td>0.680412</td>\n",
       "      <td>0.724752</td>\n",
       "      <td>0.003790</td>\n",
       "      <td>0.009764</td>\n",
       "      <td>0.357934</td>\n",
       "      <td>0.348754</td>\n",
       "      <td>0.446581</td>\n",
       "      <td>0.321212</td>\n",
       "    </tr>\n",
       "    <tr>\n",
       "      <th>2935</th>\n",
       "      <td>0.133333</td>\n",
       "      <td>0.017778</td>\n",
       "      <td>0.099723</td>\n",
       "      <td>0.015625</td>\n",
       "      <td>0.247480</td>\n",
       "      <td>0.000000</td>\n",
       "      <td>0.731959</td>\n",
       "      <td>0.002313</td>\n",
       "      <td>0.323569</td>\n",
       "      <td>0.019048</td>\n",
       "      <td>0.729167</td>\n",
       "      <td>0.424176</td>\n",
       "      <td>0.711340</td>\n",
       "      <td>0.786139</td>\n",
       "      <td>0.000467</td>\n",
       "      <td>0.000097</td>\n",
       "      <td>0.040590</td>\n",
       "      <td>0.042705</td>\n",
       "      <td>0.456197</td>\n",
       "      <td>0.351515</td>\n",
       "    </tr>\n",
       "    <tr>\n",
       "      <th>2936</th>\n",
       "      <td>0.066667</td>\n",
       "      <td>0.028889</td>\n",
       "      <td>0.948753</td>\n",
       "      <td>0.015625</td>\n",
       "      <td>0.095745</td>\n",
       "      <td>0.000000</td>\n",
       "      <td>0.762887</td>\n",
       "      <td>0.004025</td>\n",
       "      <td>0.318242</td>\n",
       "      <td>0.018571</td>\n",
       "      <td>0.760417</td>\n",
       "      <td>0.397070</td>\n",
       "      <td>0.752577</td>\n",
       "      <td>0.831683</td>\n",
       "      <td>0.004589</td>\n",
       "      <td>0.009558</td>\n",
       "      <td>0.055351</td>\n",
       "      <td>0.056940</td>\n",
       "      <td>0.456197</td>\n",
       "      <td>0.339394</td>\n",
       "    </tr>\n",
       "    <tr>\n",
       "      <th>2937</th>\n",
       "      <td>0.000000</td>\n",
       "      <td>0.044444</td>\n",
       "      <td>0.919668</td>\n",
       "      <td>0.015000</td>\n",
       "      <td>0.093505</td>\n",
       "      <td>0.000000</td>\n",
       "      <td>0.793814</td>\n",
       "      <td>0.011283</td>\n",
       "      <td>0.312916</td>\n",
       "      <td>0.018571</td>\n",
       "      <td>0.781250</td>\n",
       "      <td>0.465934</td>\n",
       "      <td>0.783505</td>\n",
       "      <td>0.859406</td>\n",
       "      <td>0.004579</td>\n",
       "      <td>0.009446</td>\n",
       "      <td>0.402214</td>\n",
       "      <td>0.395018</td>\n",
       "      <td>0.463675</td>\n",
       "      <td>0.339394</td>\n",
       "    </tr>\n",
       "  </tbody>\n",
       "</table>\n",
       "<p>1649 rows × 20 columns</p>\n",
       "</div>"
      ],
      "text/plain": [
       "          Year  Life expectancy   Adult Mortality  infant deaths   Alcohol  \\\n",
       "0     1.000000          0.466667         0.362881       0.038750  0.000000   \n",
       "1     0.933333          0.353333         0.373961       0.040000  0.000000   \n",
       "2     0.866667          0.353333         0.369806       0.041250  0.000000   \n",
       "3     0.800000          0.344444         0.375346       0.043125  0.000000   \n",
       "4     0.733333          0.337778         0.379501       0.044375  0.000000   \n",
       "...        ...               ...              ...            ...       ...   \n",
       "2933  0.266667          0.006667         1.000000       0.016875  0.243561   \n",
       "2934  0.200000          0.011111         0.988920       0.016250  0.226764   \n",
       "2935  0.133333          0.017778         0.099723       0.015625  0.247480   \n",
       "2936  0.066667          0.028889         0.948753       0.015625  0.095745   \n",
       "2937  0.000000          0.044444         0.919668       0.015000  0.093505   \n",
       "\n",
       "      percentage expenditure  Hepatitis B  Measles       BMI   \\\n",
       "0                   0.003759     0.649485  0.008780  0.227696   \n",
       "1                   0.003878     0.618557  0.003743  0.221039   \n",
       "2                   0.003861     0.639175  0.003271  0.214381   \n",
       "3                   0.004123     0.670103  0.021203  0.207723   \n",
       "4                   0.000374     0.680412  0.022923  0.202397   \n",
       "...                      ...          ...       ...       ...   \n",
       "2933                0.000000     0.680412  0.000236  0.334221   \n",
       "2934                0.000000     0.051546  0.007593  0.328895   \n",
       "2935                0.000000     0.731959  0.002313  0.323569   \n",
       "2936                0.000000     0.762887  0.004025  0.318242   \n",
       "2937                0.000000     0.793814  0.011283  0.312916   \n",
       "\n",
       "      under-five deaths      Polio  Total expenditure  Diphtheria    HIV/AIDS  \\\n",
       "0               0.039524  0.031250           0.543590     0.649485   0.000000   \n",
       "1               0.040952  0.572917           0.545055     0.618557   0.000000   \n",
       "2               0.042381  0.614583           0.541392     0.639175   0.000000   \n",
       "3               0.044286  0.666667           0.569963     0.670103   0.000000   \n",
       "4               0.046190  0.677083           0.522344     0.680412   0.000000   \n",
       "...                  ...       ...                ...          ...        ...   \n",
       "2933            0.020000  0.666667           0.468132     0.649485   0.663366   \n",
       "2934            0.019524  0.041667           0.423443     0.680412   0.724752   \n",
       "2935            0.019048  0.729167           0.424176     0.711340   0.786139   \n",
       "2936            0.018571  0.760417           0.397070     0.752577   0.831683   \n",
       "2937            0.018571  0.781250           0.465934     0.783505   0.859406   \n",
       "\n",
       "           GDP  Population   thinness  1-19 years   thinness 5-9 years  \\\n",
       "0     0.004889    0.026074               0.630996             0.612100   \n",
       "1     0.005127    0.000253               0.642066             0.619217   \n",
       "2     0.005287    0.024525               0.649446             0.626335   \n",
       "3     0.005608    0.002857               0.656827             0.637011   \n",
       "4     0.000519    0.002302               0.667897             0.644128   \n",
       "...        ...         ...                    ...                  ...   \n",
       "2933  0.003799    0.009875               0.343173             0.330961   \n",
       "2934  0.003790    0.009764               0.357934             0.348754   \n",
       "2935  0.000467    0.000097               0.040590             0.042705   \n",
       "2936  0.004589    0.009558               0.055351             0.056940   \n",
       "2937  0.004579    0.009446               0.402214             0.395018   \n",
       "\n",
       "      Income composition of resources  Schooling  \n",
       "0                            0.511752   0.357576  \n",
       "1                            0.508547   0.351515  \n",
       "2                            0.502137   0.345455  \n",
       "3                            0.494658   0.339394  \n",
       "4                            0.485043   0.321212  \n",
       "...                               ...        ...  \n",
       "2933                         0.434829   0.303030  \n",
       "2934                         0.446581   0.321212  \n",
       "2935                         0.456197   0.351515  \n",
       "2936                         0.456197   0.339394  \n",
       "2937                         0.463675   0.339394  \n",
       "\n",
       "[1649 rows x 20 columns]"
      ]
     },
     "execution_count": 147,
     "metadata": {},
     "output_type": "execute_result"
    }
   ],
   "source": [
    "X"
   ]
  },
  {
   "cell_type": "markdown",
   "metadata": {},
   "source": [
    "Let's see accuracy score:"
   ]
  },
  {
   "cell_type": "code",
   "execution_count": 148,
   "metadata": {},
   "outputs": [
    {
     "data": {
      "text/plain": [
       "1014    1\n",
       "93      1\n",
       "2015    1\n",
       "2929    1\n",
       "2583    1\n",
       "       ..\n",
       "1951    1\n",
       "2223    1\n",
       "1528    0\n",
       "2576    1\n",
       "1947    1\n",
       "Name: Status, Length: 1319, dtype: int64"
      ]
     },
     "execution_count": 148,
     "metadata": {},
     "output_type": "execute_result"
    }
   ],
   "source": [
    "y_train\n"
   ]
  },
  {
   "cell_type": "markdown",
   "metadata": {},
   "source": [
    "Finally Tunned model score:"
   ]
  },
  {
   "cell_type": "code",
   "execution_count": 134,
   "metadata": {},
   "outputs": [
    {
     "data": {
      "text/plain": [
       "0.8878787878787879"
      ]
     },
     "execution_count": 134,
     "metadata": {},
     "output_type": "execute_result"
    }
   ],
   "source": [
    "cross_val_score(loj_model, X_test, y_test, cv = 10).mean()\n"
   ]
  },
  {
   "cell_type": "markdown",
   "metadata": {},
   "source": [
    "### Result: From this data, we understand: 89% of the countries that are developing are developing countries, and the effects of the variables that will question life expectancies can be examined."
   ]
  },
  {
   "cell_type": "markdown",
   "metadata": {},
   "source": [
    "# Conclusion\n",
    "We examined the **Life Expectancy (WHO)** data set with the basic models in Machine Learing and made some comments.\n",
    "\n",
    "Note:\n",
    "\n",
    "   - After this notebook, my aim is to prepare 'kernel' which is 'not clear' data set.\n",
    "\n",
    "   - If you have any suggestions, please could you write for me? I wil be happy for comment and critics!\n",
    "\n",
    "   - Thank you for your suggestion and votes ;)\n"
   ]
  },
  {
   "cell_type": "code",
   "execution_count": null,
   "metadata": {},
   "outputs": [],
   "source": []
  }
 ],
 "metadata": {
  "kernelspec": {
   "display_name": "Python 3",
   "language": "python",
   "name": "python3"
  },
  "language_info": {
   "codemirror_mode": {
    "name": "ipython",
    "version": 3
   },
   "file_extension": ".py",
   "mimetype": "text/x-python",
   "name": "python",
   "nbconvert_exporter": "python",
   "pygments_lexer": "ipython3",
   "version": "3.8.5"
  }
 },
 "nbformat": 4,
 "nbformat_minor": 4
}
